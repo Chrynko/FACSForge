{
 "cells": [
  {
   "cell_type": "markdown",
   "id": "9aac1eeb-f27b-4d6d-92ca-6fc5ee875b16",
   "metadata": {},
   "source": [
    "# <font color='Chartreuse'>**Dye Modeling Notebook: Predicting Properties and Generating Structures**</font>"
   ]
  },
  {
   "cell_type": "markdown",
   "id": "b7d6196e-6f71-4fea-b554-40acff7dfce4",
   "metadata": {},
   "source": [
    "<font color='#66fdbd '>ENCH-670_SP25: <br>\n",
    "Fluorescence and Absorbance Computational Science <br> Group 4: **F**aezeh **A**mir **C**odi **S**ahar \n",
    "</font>"
   ]
  },
  {
   "cell_type": "markdown",
   "id": "0b3e107a-1d2f-465a-8aa2-394d7759cdee",
   "metadata": {},
   "source": [
    "# <font color='orange'>Table of Contents</font>\n",
    "***\n",
    ">1. Project Overview — Intro: tetrapyrrolic dyes, optical and photophysical properties, modeling goals\n",
    "2. Glossary of Terms — Definitions like Egap, Stokes Shift, HOMO, LUMO, SMARTS, etc.\n",
    "3. Environment Setup — Package installs, imports with doc comments.\n",
    "4. SMILES Validation and InChI Key Uniqueness — Ensuring chemical consistency.\n",
    "5. File Handling and Data Cleaning — CSV merging, header cleaning, initial sanity check.\n",
    "6. Evaluation and Tests - Continual Sanity Checks\n",
    "7. Feature Engineering — Optical, structural, SMARTS-based, and Mordred descriptors.\n",
    "8. Modeling — Linear Regression and Random forest regression with explainable metrics.\n",
    "9. User model testing — Add a new molecule, check against training data, visualize comparisons.\n",
    "10. Fragment Feature Similarity Modeling — Show statistical, chemical, and property-based similarity.\n",
    "11. Ligand Perturbation System — SMARTS-based replacement, visual diffs, impact on spectra.\n"
   ]
  },
  {
   "cell_type": "markdown",
   "id": "0e2b1658-bed0-4b8f-82a7-8a5d9e0a14ec",
   "metadata": {},
   "source": [
    "<font color='red'>1. Project Overview </font>\n",
    "***\n",
    "The fundamental chromophore class of tetrapyrrolic macrocyclic dyes contain very distinct optical and photophysical properties. **Quantitative Structure-Property Relationships (QSPR) theory** is primarily based upon the assumption that the physicochemical properties of a compound are directly related to its molecular structure.\n",
    "\n",
    "The photosynthetic center of a plant's chlorophyll exploits the optical and photophysical properties for solar energy conversion. These molecular arrays are particullary interesting for biomedical imaging, photodynamic therapy, solar cells, and OLEDs.\n",
    "\n",
    "*We herein attempt to improve the efficiency of dye discovery through reduction of resource and time intesive associated costs with a machine learned model.* <br>\n",
    "The goal of the model is to evaluate QSPR to determine optical and photophysical properties. A required user-defined porphrynoid chemical identifier such as a `SMILE` string and optional user-defined desirable properties shall be inputs. The output shall predict properties such as \\($\\lambda_{em}$) and then shall generate a related structure whose properties are closer to the user's desirable properties. "
   ]
  },
  {
   "cell_type": "markdown",
   "id": "40f68d3d-64c0-44bb-8862-634ae614a95c",
   "metadata": {},
   "source": [
    "<font color='red'>2. Glossary of Terms </font>\n",
    "***\n",
    "IUPAC : List of Terms : https://www.degruyter.com/document/doi/10.1351/pac200779030293/pdf\n",
    "\n",
    "Chem LibreTexts : Fundmental concepts : https://chem.libretexts.org/Bookshelves/Physical_and_Theoretical_Chemistry_Textbook_Maps/Supplemental_Modules_(Physical_and_Theoretical_Chemistry)/Spectroscopy/Electronic_Spectroscopy/Fluorescence_and_Phosphorescence"
   ]
  },
  {
   "cell_type": "markdown",
   "id": "61e0bf64-f9f8-4820-a819-92cafbe5225e",
   "metadata": {},
   "source": [
    "<font color='red'>3. Environment Setup </font>\n",
    "***"
   ]
  },
  {
   "cell_type": "code",
   "execution_count": 2,
   "id": "bfd6dfbe-3edc-4983-9a85-f450225b5aa1",
   "metadata": {},
   "outputs": [],
   "source": [
    "##Installer with suggestions\n",
    "# numpy pandas rdkit mordred seaborn openbabel py3dmol tqdm selfies pyl3dmd\n",
    "\n",
    "##Setup and Imports\n",
    "#import pandas as pd\n",
    "#import numpy as np"
   ]
  },
  {
   "cell_type": "markdown",
   "id": "1b8db386-7ee7-4c12-a798-d3f59baf39e6",
   "metadata": {},
   "source": [
    "<font color='red'>4. SMILES Validation and SELFIES Uniqueness with InChI Key for broad access </font>\n",
    "***"
   ]
  },
  {
   "cell_type": "code",
   "execution_count": null,
   "id": "02fc1cb5-827e-45ba-9abb-cd3322e76ed7",
   "metadata": {},
   "outputs": [],
   "source": [
    "##SMILES Uniqueness & Verification\n",
    "\n",
    "def ValidateAndStandardize():\n",
    "    \"\"\"\n",
    "    Processes a DataBase by validating the SMILES column to ensure uniqueness.\n",
    "    Converts to Canonical SMILES and/or InChI for consistency.\n",
    "    Convert to SELFIES\n",
    "    \"\"\"\n",
    "\n",
    "def VisualizeDatabaseSmiles():\n",
    "    \"\"\"\n",
    "    Draws images for visual inspection via human for each unique set in DataBase {SMILES and SELFIES and Canonical SMILES and InChI}     \n",
    "    \"\"\"\n"
   ]
  },
  {
   "cell_type": "markdown",
   "id": "44f82de4-5517-462c-8f0f-fed99b67f35e",
   "metadata": {},
   "source": [
    "<font color='red'>5. File Handling and Data Cleaning </font>\n",
    "***\n",
    "Be sure to name each Raw-Database with easy for human to read names.\n",
    "<br><font color='Yellow'> **Important: DB structure and design should be intensly considered to handle multiple values for same property per chemical** </font>\n",
    "<br> MOs = Molecular orbitals => should be broken into HOMO-LUMO pairs. Likely (Homo+1,Lumo-1)or(Homo+2,Homo+1,Lumo-1,Lumo-2)"
   ]
  },
  {
   "cell_type": "code",
   "execution_count": null,
   "id": "435b5aa7-946f-47bd-aea4-73d5ab205998",
   "metadata": {},
   "outputs": [],
   "source": [
    "#Data Cleanup and Merging\n",
    "def CleanAndMergeDatabases(FolderPath):\n",
    "    \"\"\"\n",
    "    Reads all raw-databases (CSV files) from a folder and merges them into one master DataBase for each unique chemical.\n",
    "    Normalizes column headers, format, and units. \n",
    "    Adds a value to identify the source (raw-database) for each property to allow for overlapping properties from different DataBases. \n",
    "    \n",
    "    New DataBase is organized based on each unique name ID (like SELFIES). \n",
    "    \"\"\"\n",
    "\n",
    "\n",
    "##Evaluate Master DataBase\n",
    "\n",
    "    \n",
    "#Histogram visualization of the spread of data and to detect null fields.\n",
    "#See next section for setup of visualizing general stuff."
   ]
  },
  {
   "cell_type": "markdown",
   "id": "1dd53ad3-9919-42d9-bdba-c0263edfcd63",
   "metadata": {},
   "source": [
    "<font color='red'>6. Evaluation and Tests </font>\n",
    "***\n",
    "Conituously will add to this ever growing section.\n",
    "<br> **Focus on visualizing for data analysis prior to adding try/error and catch/throw handles**\n"
   ]
  },
  {
   "cell_type": "code",
   "execution_count": null,
   "id": "1a5a05cb-59e9-4a8a-a6f6-d38f3d09498e",
   "metadata": {},
   "outputs": [],
   "source": [
    "#Data Visualization\n",
    "def SanityChecks():\n",
    "    \"\"\"\n",
    "    Visualize spread of data in database for sanity checks\n",
    "    \n",
    "    Histograms\n",
    "    Violin plots\n",
    "    Clustering of scatterplots\n",
    "    \"\"\"\n",
    "    \n",
    "#Error Handling\n",
    "def Error_ClassificationWithSMILES():\n",
    "    \"\"\"\n",
    "    Ensure chemical fits our domain for modeling.\n",
    "        \n",
    "        True = perform ML operations\n",
    "        False = \"invalid SMILES string\"\n",
    "    \"\"\""
   ]
  },
  {
   "cell_type": "markdown",
   "id": "025bcaf8-95db-4ade-b0d8-e3f82536954e",
   "metadata": {},
   "source": [
    "<font color='red'>7. Feature Engineering </font>\n",
    "***\n",
    "Structural, Optical, and Photophysical Descriptors. How to store the exponetial enumerations of descriptors?\n",
    "<br> **How to make sure the format, style, ontology of descriptors and features do not influence correlation? (Example: an empty field should not be considered the same as a property value=0)**\n",
    "<br> Web based generator: http://www.scbdd.com/chemdes/\n",
    "\n",
    "<br>List of properties as a start:\n",
    ">1. FP, molecule weight, heavy atoms\n",
    "2. Metal center\n",
    "3. Core Structure\n",
    "4. Adjency matrixes, 1D or 2D or 3D graph values of atoms\n",
    "\n",
    ">5. $\\epsilon$ converted to log values or unconverted\n",
    "6. IF $\\epsilon$ or $I_{Q}/I_{Qx}$ is present, then calculate out the relative intensities\n",
    "7. Stokes shifts between bands reported in nm and wavenumbers\n",
    "8. Energy gap from Homo-Lumo\n",
    "9. Energy gap from abs to emission spectrum\n",
    "\n",
    ">10. Fragments\n",
    "11. Ligands\n",
    "12. Ligand properties :: this gets a whole subdivision of features for each ligand\n",
    "13. Ligand connectivity position ={meso, beta}\n",
    "14. ...\n",
    "\n",
    ">15. Photochemical specific properties as keywords for searching below\n",
    "16. Woodward–Fieser rules\n",
    "17. Gouterman Model\n",
    "18. Frontier MO Theory\n",
    "19. Aromaticity Metrics\n",
    "20. Oscillator Strength or Dipole Moment\n",
    "21. Hammett Equation\n",
    "22. Platt’s Empirical Relationship\n",
    "23. Approximating symmetry class\n",
    " "
   ]
  },
  {
   "cell_type": "code",
   "execution_count": null,
   "id": "fca96b3d-eb44-4bf1-b7de-413fa795f2f9",
   "metadata": {},
   "outputs": [],
   "source": [
    "#Structural, Optical, and Photophysical Descriptors\n",
    "\n",
    "#Any features that have to be hand specified because they aren't in packages and are unique properties for our dyes\n",
    "AddedFeatures = [\n",
    "    \"StokesShift_nm_Abs_Ems\", # = (Max absorbance wavelength) - (Min Emission wavelegth) \n",
    "    \"StokesShift_nm_B_Qy\", # = (Max absorbance wavelength) - (Soret absorbance wavelegth) \n",
    "    \"StokesShift_cm_Abs_Ems\", # = (1e7)/(Max absorbance wavenumber) - (1e7)/(Min Emission wavenumber) \n",
    "    \"StokesShift_cm_B_Qy\", # = (1e7)/(Max absorbance wavenumber) - (1e7)/(Soret absorbance wavenumber) \n",
    "    \"Egap_Spectra\", # Egap = 1240/(Max_Abs) - 1240/(Min_Ems)\n",
    "    \"Egap_HOMO_LUMO\", # Egap = (HOMO) - (LUMO)\n",
    "    \"Brightness\", # Brightness = (PLQY) x (extinction coefficient)\n",
    "]\n",
    "\n",
    "#Featurizer for each category or package used\n",
    "def ComputeOpticalFeatures():\n",
    "    \"\"\"\n",
    "    Computes related features\n",
    "    \"\"\"\n",
    "def ComputeMordredFeatures():\n",
    "    \"\"\"\n",
    "    Computes related features\n",
    "    \"\"\"\n",
    "\n",
    "#Identify then Separate the core structure from ligands. Try using a graphp-based approach. This may help with inverse-design later.\n",
    "#Need a descriptor for identifying core structure as a feature.\n",
    "#Could be SELFIES, SMILES, InChI, Adjency Matrix, or even simply labeling 1-20 for each carbon on outside of ring....\n",
    "def ClassifyCoreStructure():\n",
    "    \"\"\"\n",
    "    Determines sub-class of molecule and can be called for validating end-user entered structure\n",
    "\n",
    "    Returns: \n",
    "        True = Porphyrin, Chlorin, BacterioChlorin {optionals: corrole, corrin, azoporphyrin, phthalocyanine, ...}\n",
    "        False = Not macrocycle\n",
    "    \"\"\"\n",
    "\n",
    "def IdentifySubstituents():\n",
    "    \"\"\"\n",
    "    Computes and Identifies Ligands.\n",
    "    Adds Ligands to alt Database to then be featurized and correlated later.\n",
    "    \"\"\"\n",
    "\n",
    "## Apply Sanity Checks"
   ]
  },
  {
   "cell_type": "markdown",
   "id": "23166835-f534-4b0d-bc4b-7b4b4726b7d9",
   "metadata": {},
   "source": [
    "<font color='red'>7. Con't. Ligands and Fragments Feature Engineering </font>\n",
    "***\n",
    "How to featurize multiple atoms and functional group?\n",
    "<br>*Nomenclature is all the same: 'Functional groups' = 'Ligands' = 'Moieties' = 'R-groups' = 'Substituents'*\n",
    "<br>List of properties as a start:\n",
    ">1. FP, molecule weight, heavy atoms\n",
    "2. Metals?\n",
    "3. Core Structure it was attached to\n",
    "4. Adjency matrix\n",
    "5. Does the liagnd have it's own spectral properties? The functional groups are smaller, generic, and probably searched in other packages/databases.\n",
    "6. Other seasily accesible or searchable properties?\n",
    "7. Are the substituents also a dye in another class of chemicals?\n",
    "8. Can they be fragmented again? How many times can we fragment our structures?\n",
    "9. Ligand connectivity position ={meso, beta}\n",
    "10. Ligand symmetry. Are the ligands attached to molecule in the same repeating positions?\n",
    "11. Are connected ligands descriptors symmetrical even though they are atomistcally different?\n",
    "12. EWG or EDG\n",
    "13. Water solublizing, Bioconjugating\n",
    "14. Do other ligands influence the behavior of the substituent? Maybe not directly connect?\n",
    " "
   ]
  },
  {
   "cell_type": "code",
   "execution_count": null,
   "id": "1b40ac0e-d891-43c2-a995-289b18b1ce45",
   "metadata": {},
   "outputs": [],
   "source": [
    "# Fragment Features. SELFIES-base tagging of meso/beta/electron-withdrawing/donating groups\n",
    "#Add fragment features: Murcko scaffolds, BRICS, MACCS keys\n",
    "\n",
    "def ComputeSubstituentFeatures():\n",
    "    \"\"\"\n",
    "    Computes related discriptors\n",
    "    \"\"\"\n",
    "def IdentifySubstituent():\n",
    "    \"\"\"\n",
    "    Computes related discriptors\n",
    "    \"\"\"\n",
    "def ConnectSubstituentFeatures():\n",
    "    \"\"\"\n",
    "    Computes related discriptors\n",
    "    \"\"\"\n",
    "\n",
    "## Apply Sanity Checks"
   ]
  },
  {
   "cell_type": "markdown",
   "id": "fdd84d00-15ec-4149-ac54-64bba3ca5774",
   "metadata": {},
   "source": [
    "<font color='red'>8. Modeling </font>\n",
    "***\n",
    "\n",
    "## Broken up in subsections:\n",
    "1. Modeling Methods\n",
    "2. Training Sets\n",
    "3. Statistical Analysis\n",
    "4. Fine Tunning\n",
    "\n",
    "### 1. Modeling Methods\n",
    "1. Linear Regression\n",
    "2. Random Forrest\n",
    "3. ...\n",
    "\n",
    "### 2. Training Sets\n",
    "1. Master Database\n",
    "2. Database filtered for just porphyrin vs chlorin vs bacteriochlorin\n",
    "3. Rearrangemnet and size manipulation of training sets\n",
    "4. ...\n",
    "\n",
    "### 3. Statistical Analysis and running Test Sets\n",
    "1. RMSE\n",
    "2. Parity Plots\n",
    "3. Evaluation of ML confidence \n",
    "4. Evaluation of error or error\n",
    "5. ...\n",
    "<br> Iterate over different hyperparameters.\n",
    "\n",
    "### 4. Fine Tunning\n",
    "<br> Create a function to get the escence of gradient descent. AKA, the funxtion can change a hyperparameter -> observe statistical results -> make a change in hyperparameter -> compare tp previous stat result and *decide to increase or decrease* hyperparameter till a max or min is found. Pretty sure something already exists, just got to install it."
   ]
  },
  {
   "cell_type": "code",
   "execution_count": null,
   "id": "c3b2ceb1-defc-4f1e-a60d-2c01ed66c568",
   "metadata": {},
   "outputs": [],
   "source": [
    "## First pass Modeling (Linear Regression)\n",
    "\n",
    "## Modeling (Random Forest)\n",
    "def TrainRandomForrestModel():\n",
    "    \"\"\"\n",
    "    Trains a Random Forest model on numeric features to predict target property.\n",
    "    Returns trained model and feature columns.\n",
    "    \"\"\"\n",
    "\n",
    "## Training data sets.\n",
    "\n",
    "\n",
    "## Stat analysis\n",
    "def StructuralSimiliarity():\n",
    "    \"\"\"\n",
    "    Use FP and Fragmentation to compare structure.\n",
    "    Like Tanimoto fingerprint similarity. If this =1, then we know the chemical is actually in our database.\n",
    "    \"\"\"\n",
    "\n",
    "## Visualizations of results and data analysis\n",
    "\n",
    "\n",
    "## Fine Tunning\n",
    "    "
   ]
  },
  {
   "cell_type": "markdown",
   "id": "2f638b2b-491d-4d2c-b4b9-33d75121bf7b",
   "metadata": {},
   "source": [
    "<font color='red'>9. User Model testing </font>\n",
    "***\n",
    "Try the model out with SMILES"
   ]
  },
  {
   "cell_type": "code",
   "execution_count": 1,
   "id": "cf4c21ac-5060-4319-afec-63a180951059",
   "metadata": {},
   "outputs": [],
   "source": [
    "## Run the ML code and eval results\n",
    "\n",
    "\n",
    "## Draw the Structure of chemical\n"
   ]
  },
  {
   "cell_type": "markdown",
   "id": "2c0db776-d59a-4ce3-814a-c841175c5faa",
   "metadata": {},
   "source": [
    "<font color='red'>10.Ligand Optimizing and training </font>\n",
    "***\n",
    "ML on ligand training sets.\n",
    "<br>Evaluate"
   ]
  },
  {
   "cell_type": "code",
   "execution_count": null,
   "id": "c01801a0-566f-44d1-a5cd-1f7b4e39e768",
   "metadata": {},
   "outputs": [],
   "source": [
    "## similar to 8 but with generated features crossed with master data set or such.\n",
    "\n",
    "## sanity check\n",
    "\n",
    "## visualize data\n",
    "# Visualize property shifts due to fragment-level changes\n"
   ]
  },
  {
   "cell_type": "markdown",
   "id": "a880a6bf-378e-44b8-96b8-631f7ae33eec",
   "metadata": {},
   "source": [
    "<font color='red'>11.Ligand Perturbation </font>\n",
    "***\n",
    "Get entry from user for their desired properties.\n",
    "<br>Attempt to increment attached ligands by a very small change towards desired outcome by using some descriptor value in generated database.\n",
    "<br>Generate Smiles\n",
    "<br>Run ML"
   ]
  },
  {
   "cell_type": "code",
   "execution_count": null,
   "id": "221a50d5-96bb-45e5-b9a5-a9fe940d1554",
   "metadata": {},
   "outputs": [],
   "source": [
    "## perturb\n",
    "def FindClosestStructures():\n",
    "    \"\"\"\n",
    "    Finds similar molecules\n",
    "    \"\"\"\n",
    "\n",
    "def GenerateClosestStructures():\n",
    "    \"\"\"\n",
    "    Uses Regressoin to predict similar molecules \n",
    "    \"\"\"\n",
    "\n",
    "## output (5 or so) different structures. Draw structures too.\n",
    "\n",
    "## visualize scatterplot of predicted structures overlayed on training set and maybe even which molecule in database would be nearest neighbor."
   ]
  },
  {
   "cell_type": "code",
   "execution_count": null,
   "id": "11002da0-83aa-4b2f-a837-3c8cf2b8123c",
   "metadata": {},
   "outputs": [],
   "source": [
    "## First pass Modeling (Linear Regression)\n",
    "\n",
    "## Modeling (Random Forest)\n",
    "def TrainRandomForrestModel():\n",
    "    \"\"\"\n",
    "    Trains a Random Forest model on numeric features to predict target property.\n",
    "    Returns trained model and feature columns.\n",
    "    \"\"\"\n",
    "\n",
    "## Training data sets.\n",
    "\n",
    "\n",
    "## Stat analysis\n",
    "\n",
    "\n",
    "## Fine Tunning\n",
    "    "
   ]
  }
 ],
 "metadata": {
  "kernelspec": {
   "display_name": "Python 3 (ipykernel)",
   "language": "python",
   "name": "python3"
  },
  "language_info": {
   "codemirror_mode": {
    "name": "ipython",
    "version": 3
   },
   "file_extension": ".py",
   "mimetype": "text/x-python",
   "name": "python",
   "nbconvert_exporter": "python",
   "pygments_lexer": "ipython3",
   "version": "3.13.2"
  }
 },
 "nbformat": 4,
 "nbformat_minor": 5
}
