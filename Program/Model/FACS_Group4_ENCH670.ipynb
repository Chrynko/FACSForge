{
 "cells": [
  {
   "cell_type": "markdown",
   "id": "496713e2-59dc-424b-84b8-4809e9d9640c",
   "metadata": {},
   "source": [
    "# ENCH 670 - Machine Learning for Optical Properties of Chlorins\n",
    "### FACS: Fluorescence and Absorbance Computational Science – Group 4"
   ]
  },
  {
   "cell_type": "markdown",
   "id": "342eec43-5935-42ab-a677-dd92c368cdbd",
   "metadata": {},
   "source": [
    "#### Citation for using scikit-learn\n",
    "Scikit-learn: Machine Learning in Python, Pedregosa et al., JMLR 12, pp. 2825-2830, 2011\n",
    "\n",
    "Using Random Forest from sklearn"
   ]
  },
  {
   "cell_type": "markdown",
   "id": "2733eade-d0ee-43d4-9480-65d6ca1ce2b1",
   "metadata": {},
   "source": [
    "## 1. Import Libraries"
   ]
  },
  {
   "cell_type": "code",
   "execution_count": 4,
   "id": "0bb79b07-90ae-4d43-9c15-83fe0342a334",
   "metadata": {},
   "outputs": [],
   "source": [
    "import pandas as pd\n",
    "import numpy as np\n",
    "from rdkit import Chem\n",
    "from rdkit.Chem.rdFingerprintGenerator import GetMorganGenerator\n",
    "from rdkit import RDLogger\n",
    "RDLogger.DisableLog('rdApp.*')\n",
    "from sklearn.ensemble import RandomForestRegressor\n",
    "from sklearn.model_selection import train_test_split\n",
    "from sklearn.metrics import mean_squared_error, mean_absolute_error, r2_score\n",
    "import matplotlib.pyplot as plt\n",
    "import seaborn as sns"
   ]
  },
  {
   "cell_type": "markdown",
   "id": "3b681797-a8b7-42de-aefa-5bd1532025c2",
   "metadata": {},
   "source": [
    "## 2. Data Preparation\n",
    "For this project, our goal was to develop a Random Forest machine learning model capable of predicting the emission wavelength of molecules based on their SMILES strings. To support this, we compiled a database of approximately 5,000 molecules from existing literature. \n",
    "\n",
    "After creating the dataset, we need to deal with missing values. First we check if the dataset has any missing values and then we fill missing values with the value that gives the best results."
   ]
  },
  {
   "cell_type": "code",
   "execution_count": 6,
   "id": "456bedcc-9378-4050-831b-5eb49f1590a0",
   "metadata": {},
   "outputs": [
    {
     "name": "stdout",
     "output_type": "stream",
     "text": [
      "Missing values: smiles       0\n",
      "emission    97\n",
      "dtype: int64\n",
      "Zero SMILES: 0\n",
      "mean:545, max:1045, min:296\n"
     ]
    }
   ],
   "source": [
    "#Import CSV file\n",
    "df = pd.read_csv('raw_dataset.csv')\n",
    "#Check for missing values\n",
    "print('Missing values:', df.isnull().sum())\n",
    "#Check for SMILES with zero value in dataset\n",
    "print('Zero SMILES:', (df['smiles'] == 0).sum())\n",
    "#Check the mean, max, and min values of the dataset\n",
    "mean_value = df['emission'].mean()\n",
    "min_value = df['emission'].min()\n",
    "max_value = df['emission'].max()\n",
    "print(f\"mean:{int(mean_value)}, max:{int(max_value)}, min:{int(min_value)}\")"
   ]
  },
  {
   "cell_type": "code",
   "execution_count": 7,
   "id": "eb77a9dd-7ce9-495d-b3c9-c90d47c603bf",
   "metadata": {},
   "outputs": [
    {
     "data": {
      "text/html": [
       "<div>\n",
       "<style scoped>\n",
       "    .dataframe tbody tr th:only-of-type {\n",
       "        vertical-align: middle;\n",
       "    }\n",
       "\n",
       "    .dataframe tbody tr th {\n",
       "        vertical-align: top;\n",
       "    }\n",
       "\n",
       "    .dataframe thead th {\n",
       "        text-align: right;\n",
       "    }\n",
       "</style>\n",
       "<table border=\"1\" class=\"dataframe\">\n",
       "  <thead>\n",
       "    <tr style=\"text-align: right;\">\n",
       "      <th></th>\n",
       "      <th>smiles</th>\n",
       "      <th>emission</th>\n",
       "    </tr>\n",
       "  </thead>\n",
       "  <tbody>\n",
       "    <tr>\n",
       "      <th>0</th>\n",
       "      <td>CC(C)(CC1C=C2C3)C(N=1[Zn](N2C(C=3)=C1)(N2C3C4)...</td>\n",
       "      <td>605.0</td>\n",
       "    </tr>\n",
       "    <tr>\n",
       "      <th>1</th>\n",
       "      <td>CC(C)(CC1C=C(C=C2)NC2=CC2C3)C(N=1)=CC(=CC1)NC=...</td>\n",
       "      <td>634.0</td>\n",
       "    </tr>\n",
       "    <tr>\n",
       "      <th>2</th>\n",
       "      <td>CC(C)(CC1/C=C(\\N2C3=C4)C=C3)/C(N=1)=C/C(=CC1)N...</td>\n",
       "      <td>610.0</td>\n",
       "    </tr>\n",
       "    <tr>\n",
       "      <th>3</th>\n",
       "      <td>CC(C)(CC1C=C2C3)C(N=1[Zn](N1C45)(N2C2C=3)N(C(C...</td>\n",
       "      <td>607.0</td>\n",
       "    </tr>\n",
       "    <tr>\n",
       "      <th>4</th>\n",
       "      <td>CC(C)(CC1C=C(NC2=CC34)C=C2)C(N=1)=CC(NC1C(C(C=...</td>\n",
       "      <td>637.0</td>\n",
       "    </tr>\n",
       "    <tr>\n",
       "      <th>5</th>\n",
       "      <td>CC(=CC=C1/C(C(=CC2)N(C=2C=C2C3(C)C)[Zn](N2=C(C...</td>\n",
       "      <td>608.0</td>\n",
       "    </tr>\n",
       "    <tr>\n",
       "      <th>6</th>\n",
       "      <td>CC(=CC=C1C(C(NC2C=C(N=C3C4)C(C3)(C)C)=CC=2)=C(...</td>\n",
       "      <td>639.0</td>\n",
       "    </tr>\n",
       "    <tr>\n",
       "      <th>7</th>\n",
       "      <td>CC(C)(CC1C=C2C3)C(N=1[Zn](N1C45)(N2C2C=3)N(=C(...</td>\n",
       "      <td>608.0</td>\n",
       "    </tr>\n",
       "    <tr>\n",
       "      <th>8</th>\n",
       "      <td>CC(C)(CC1C=C(C=C2)NC2=C(C23)C(C=CC4)=CC=4)C(N=...</td>\n",
       "      <td>637.0</td>\n",
       "    </tr>\n",
       "    <tr>\n",
       "      <th>9</th>\n",
       "      <td>CC(C)(CC1/C=C(/C=C2)N3C2=C2C(=CC=C4)C=C4)/C(N=...</td>\n",
       "      <td>695.0</td>\n",
       "    </tr>\n",
       "  </tbody>\n",
       "</table>\n",
       "</div>"
      ],
      "text/plain": [
       "                                              smiles  emission\n",
       "0  CC(C)(CC1C=C2C3)C(N=1[Zn](N2C(C=3)=C1)(N2C3C4)...     605.0\n",
       "1  CC(C)(CC1C=C(C=C2)NC2=CC2C3)C(N=1)=CC(=CC1)NC=...     634.0\n",
       "2  CC(C)(CC1/C=C(\\N2C3=C4)C=C3)/C(N=1)=C/C(=CC1)N...     610.0\n",
       "3  CC(C)(CC1C=C2C3)C(N=1[Zn](N1C45)(N2C2C=3)N(C(C...     607.0\n",
       "4  CC(C)(CC1C=C(NC2=CC34)C=C2)C(N=1)=CC(NC1C(C(C=...     637.0\n",
       "5  CC(=CC=C1/C(C(=CC2)N(C=2C=C2C3(C)C)[Zn](N2=C(C...     608.0\n",
       "6  CC(=CC=C1C(C(NC2C=C(N=C3C4)C(C3)(C)C)=CC=2)=C(...     639.0\n",
       "7  CC(C)(CC1C=C2C3)C(N=1[Zn](N1C45)(N2C2C=3)N(=C(...     608.0\n",
       "8  CC(C)(CC1C=C(C=C2)NC2=C(C23)C(C=CC4)=CC=4)C(N=...     637.0\n",
       "9  CC(C)(CC1/C=C(/C=C2)N3C2=C2C(=CC=C4)C=C4)/C(N=...     695.0"
      ]
     },
     "execution_count": 7,
     "metadata": {},
     "output_type": "execute_result"
    }
   ],
   "source": [
    "#Filling missing values\n",
    "df = df.fillna(695)\n",
    "#Print the first 10 rows of the dataset\n",
    "df.head(10)"
   ]
  },
  {
   "cell_type": "markdown",
   "id": "0111a9e5-b6b2-4bab-b152-0e2432ec52fa",
   "metadata": {},
   "source": [
    "## 3. SMILES Cleaning Pipeline\n",
    "The next step is to remove invalid and duplicated SMILES from the dataset. We have achieved this goal through 3 steps:\n",
    "\n",
    "1. Canonicalize SMILES using RDKit.\n",
    "2. Remove invalid SMILES entries.\n",
    "3. Eliminate duplicate molecules based on canonical SMILES."
   ]
  },
  {
   "cell_type": "code",
   "execution_count": 9,
   "id": "11dad6a0-d92f-49f6-8454-73f39a19c2e2",
   "metadata": {},
   "outputs": [
    {
     "name": "stdout",
     "output_type": "stream",
     "text": [
      "Original count: 4766\n",
      "Unique molecules: 3282\n",
      "Duplicates detected: 1484\n"
     ]
    }
   ],
   "source": [
    "#Define canonicalization function\n",
    "def canonicalize(smiles):\n",
    "    try:\n",
    "        mol = Chem.MolFromSmiles(smiles) #Convert the SMILES string to an RDKit molecule object\n",
    "        if mol is not None: #If the molecule object is valid, return its canonical SMILES\n",
    "            return Chem.MolToSmiles(mol, canonical=True)\n",
    "    #If an error occurs during conversion, return None\n",
    "    except:\n",
    "        return None  \n",
    "    return None\n",
    "\n",
    "#Apply canonicalization function to the dataset\n",
    "df['canonical_smiles'] = df['smiles'].apply(canonicalize)\n",
    "\n",
    "#Remove invalid SMILES from the dataset\n",
    "df = df[df['canonical_smiles'].notna()]\n",
    "\n",
    "#Drop duplicates from the dataset\n",
    "df_unique = df.drop_duplicates(subset='canonical_smiles').reset_index(drop=True)\n",
    "\n",
    "#Save cleaned dataset\n",
    "#df_unique.to_csv(\"smiles_dataset_unique.csv\", index=False)\n",
    "\n",
    "#Print statistical data\n",
    "print(f\"Original count: {len(df)}\")\n",
    "print(f\"Unique molecules: {len(df_unique)}\")\n",
    "print(f\"Duplicates detected: {len(df) - len(df_unique)}\")"
   ]
  },
  {
   "cell_type": "markdown",
   "id": "e171591c-ffbd-4282-8805-5efffc5b9ed3",
   "metadata": {},
   "source": [
    "## 4. Emission Wavelength Distribution\n",
    "In the next step, we visualize the distribution of emission wavelengths in the cleaned dataset."
   ]
  },
  {
   "cell_type": "code",
   "execution_count": 11,
   "id": "7b1375a9-7281-405e-9ea1-7be037224d77",
   "metadata": {},
   "outputs": [
    {
     "data": {
      "image/png": "iVBORw0KGgoAAAANSUhEUgAAA1IAAAIhCAYAAABE54vcAAAAOXRFWHRTb2Z0d2FyZQBNYXRwbG90bGliIHZlcnNpb24zLjkuMiwgaHR0cHM6Ly9tYXRwbG90bGliLm9yZy8hTgPZAAAACXBIWXMAAA9hAAAPYQGoP6dpAABRKElEQVR4nO3deVxV1f7/8fdRBgGRVJTDyQkNR9BMb6YNQE45l3WdU9NSv5Zp6q3MSmxA0zLNboPmV+16zeqmZrccyMQytRwyh9SsVDQgwlBRJoH1+8Mv59cRHDadI6iv5+NxHrez9jqfvfbieB+8WXuwGWOMAAAAAACXrFxpDwAAAAAArjQEKQAAAACwiCAFAAAAABYRpAAAAADAIoIUAAAAAFhEkAIAAAAAiwhSAAAAAGARQQoAAAAALCJIAQAAAIBFBCkAV70FCxbIZrOd95WQkOC2fQ0ePFh16tRxW71Chcdw6NAht9e+kK5duyowMFB5eXku7d99951sNptCQ0OLfOarr76SzWbTa6+9drmGWSybzabY2NhSHUOhzMxMxcbGFvtdi42Nlc1mU1paWolqDx482OX7HBAQoDp16qh79+6aP3++cnJyinwmOjpa0dHRlvbzww8/KDY21vJ38Nx9HTp0SDabTS+//LKlOhcTFxen5cuXF2lPSEhw+79zAJAkr9IeAABcLvPnz1fDhg2LtDdu3Nht+3jmmWc0evRot9Ur1KVLF23atKnY4OJJMTEx+vTTT7V161bdcsstzvaEhAQFBAQoJSVF+/btc5nXwl9YY2JiLutYy7LMzExNnjxZkiwHmEvh5+enL774QpKUlZWlI0eOaOXKlXrooYf0yiuvaNWqVapRo4az/xtvvGF5Hz/88IMmT56s6OhoS38sKMm+SiIuLk733Xef7r77bpf2m266SZs2bXLrv3MAkAhSAK4hERERatmypUf3Ua9ePY/UrVatmqpVq+aR2hdSGIYSEhKKBKkePXpo3bp1WrduXZEgFRwcrIiIiMs+3mtVuXLlXH4+kjRw4EA98MAD6tq1q+677z5t3rzZue1yhIrMzEz5+/uXeoCpVKlSkbkBAHfg1D4A+BObzaZHHnlE8+fPV4MGDeTn56eWLVtq8+bNMsZo+vTpCgsLU8WKFXXnnXfqp59+cvl8caf2ffjhh2rVqpWCgoLk7++vunXrasiQIc7tBQUFeuGFF5z7u+6669S0aVPNmjXL2ed8p/b97//+r5o1a6YKFSqoSpUquueee7R3794iY6pYsaJ++uknde7cWRUrVlTNmjU1bty4Yk/7+rMbb7xRlStXdjktqqCgQF999ZWio6MVFRWldevWObfl5uZq06ZNio6Ols1m008//aQHHnhA4eHh8vf31/XXX69u3bpp165dzs/8/vvv8vHx0TPPPFNk//v27StymmBKSoqGDx+uGjVqyMfHR2FhYZo8eXKR0w+Lcymf/fOpZzNmzHD+vFu3bu0SRgrNnTtX9evXl6+vrxo3bqzFixe7fA8OHTrkDMGTJ092noI3ePBglzq//fab+vbtq6CgIIWEhGjIkCE6ceLERY/pQjp06KCHHnpI33zzjb788ktne3Gn9r355ptq1qyZKlasqMDAQDVs2FBPPfWUpLPfv7///e+SzobrwmNYsGCBs15ERIS+/PJLtWnTRv7+/s7v+PlOIywoKNCLL76oWrVqqUKFCmrZsqXWrl3r0ud8p8oWng5ZyGaz6fTp01q4cKFzbIX7PN+pfStWrFDr1q3l7++vwMBAtW/fXps2bSp2P3v27HH7zwbAlY8gBeCakZ+fr7y8PJdXfn5+kX7//e9/9c4772jq1Kl67733lJGRoS5dumjcuHH6+uuv9frrr2vOnDn64YcfdO+998oYc959btq0Sb1791bdunW1ZMkSffrpp3r22WddfnGfNm2aYmNj1bdvX3366ad6//33NXToUB0/fvyCxzNlyhQNHTpUTZo00dKlSzVr1izt3LlTrVu31oEDB1z6njlzRt27d1fbtm318ccfa8iQIXr11Vf10ksvXXAf5cqV0x133KENGzY4x7xjxw6lp6crKipKUVFRWr9+vbP/5s2blZWV5VzJSkpKUtWqVTV16lStWrVK//znP+Xl5aVWrVpp//79ks6utnXt2lULFy5UQUGBy/7nz58vHx8f9e/fX9LZIHTzzTdr9erVevbZZ7Vy5UoNHTpUU6ZM0UMPPXTBY7H62X/+85+Kj4/XzJkz9e9//1unT59W586dXX6BnjNnjoYNG6amTZtq6dKlevrppzV58mSXX9pDQ0O1atUqSdLQoUO1adMmbdq0qUhwvPfee1W/fn199NFHevLJJ7V48WI99thjFzymS9G9e3dJcglS51qyZIlGjhypqKgoLVu2TMuXL9djjz2m06dPSzp7amlcXJxzXgqPoUuXLs4aycnJGjBggPr166fPPvtMI0eOvOC4Xn/9da1atUozZ87UokWLVK5cOXXq1KlImLkUmzZtkp+fnzp37uwc24VOKVy8eLF69OihSpUq6b333tO8efOUnp6u6OhobdiwoUh/T/1sAFzhDABc5ebPn28kFfsqX768S19Jxm63m1OnTjnbli9fbiSZG2+80RQUFDjbZ86caSSZnTt3OtsGDRpkateu7Xz/8ssvG0nm+PHj5x1f165dzY033nhJx3Dw4EFjjDHp6enGz8/PdO7c2aVfYmKi8fX1Nf369XMZkyTzwQcfuPTt3LmzadCgwQX3a8z/P86NGzcaY4x55ZVXTGhoqDHGmB9++MFIMrt37zbGGDN58mQjyfzwww/F1srLyzO5ubkmPDzcPPbYY872FStWGElmzZo1Ln0dDoe59957nW3Dhw83FStWNIcPH3apWzjPe/bscbZJMpMmTbL82YMHDxpJJjIy0uTl5Tn7ffvtt0aSee+994wxxuTn5xu73W5atWrlUu/w4cPG29vb5Xvw+++/FxlPoUmTJhlJZtq0aS7tI0eONBUqVHD5zhVn0KBBJiAg4Lzb9+7daySZ//mf/3G2RUVFmaioKOf7Rx55xFx33XUX3M+HH35oJJl169YV2RYVFWUkmbVr1xa77c/7Kpxfh8NhsrKynO0nT540VapUMe3atXM5tj/PY6HCOfuzgIAAM2jQoCJ9161b5zLu/Px843A4TGRkpMnPz3f2y8jIMNWrVzdt2rQpsp+S/mwAXN1YkQJwzXj33Xe1ZcsWl9c333xTpF9MTIwCAgKc7xs1aiRJ6tSpk8vpRIXthw8fPu8+//a3v0mSevXqpQ8++EC//vprkT4333yzvv/+e40cOVKrV6/WyZMnL3osmzZtUlZWVpHTw2rWrKk777yzyClSNptN3bp1c2lr2rTpBcde6M/XSRX+b1RUlKSzc1C9enXn6X0JCQkKCQlxzk1eXp7i4uLUuHFj+fj4yMvLSz4+Pjpw4IDLKYidOnWS3W7X/PnznW2rV69WUlKSy2mQ//3vfxUTEyOHw+GystipUydJclkdO5fVz3bp0kXly5d3mS/p//+89+/fr5SUFPXq1cvlc7Vq1dKtt956wTktTuHK0Z/3l52drdTUVMu1/sxcYMW00M0336zjx4+rb9+++vjjj0t0B8HKlSvrzjvvvOT+PXv2VIUKFZzvAwMD1a1bN3355ZfFrhS7y/79+5WUlKT7779f5cr9/1+DKlasqHvvvVebN29WZmamy2c89bMBcGUjSAG4ZjRq1EgtW7Z0ebVo0aJIvypVqri89/HxuWB7dnb2efd5xx13aPny5crLy9PAgQNVo0YNRURE6L333nP2mTBhgl5++WVt3rxZnTp1UtWqVdW2bVtt3br1vHWPHTsmScXexc/hcDi3F/L393f5pVWSfH19Lzj2QpGRkQoODta6deuc10cVBqnCY0xISFBOTo42bdrkcre+sWPH6plnntHdd9+tTz75RN988422bNmiZs2aKSsry9nPy8tL999/v5YtW+Y8pXHBggUKDQ1Vx44dnf1+++03ffLJJ/L29nZ5NWnSRJIuGACsfrZq1apF5kuSc9yFcxwSElJkX8W1XczF9ldShcHP4XCct8/999+v//3f/9Xhw4d17733qnr16mrVqpXi4+MveT9W7yhpt9uLbcvNzdWpU6cs1bLiYv92CgoKlJ6e7tLuqZ8NgCsbQQoAPKxHjx5au3atTpw4oYSEBNWoUUP9+vVzXgvi5eWlsWPHavv27frjjz/03nvv6ciRI+rYsWORv4wXKvzFLjk5uci2pKQkBQcHu238NptNUVFR2rhxo7799lsdP37cJUhFRUUpISFBmzZtUnZ2tkuQWrRokQYOHKi4uDh17NhRN998s1q2bFls4HnggQeUnZ2tJUuWKD09XStWrNDAgQNdVoWCg4PVoUOHIiuLha+hQ4ee9zj+ymeLU/gz+O2334psS0lJsVTLk1asWCHp4rddf+CBB7Rx40adOHFCn376qYwx6tq16yWtWkpyWa29FMXNUUpKinx8fFSxYkVJUoUKFYq9IUpJn7klXfzfTrly5VS5cuUS1wdw7SBIAcBl4uvrq6ioKOcNHr777rsifa677jrdd999evjhh/XHH3+c9+GnrVu3lp+fnxYtWuTSfvToUX3xxRdq27atW8ceExOj06dPa/r06apevbrz1D3pbJA6duyYZs+e7exbyGazOf96X+jTTz8t9hTHRo0aqVWrVpo/f74WL16snJwcPfDAAy59unbtqt27d6tevXpFVhdbtmx5wVWXv/LZ4jRo0EB2u10ffPCBS3tiYqI2btzo0lZaKxjx8fF655131KZNG912222X9JmAgAB16tRJEydOVG5urvbs2SPJ/cewdOlSlxXRjIwMffLJJ7r99tud4blOnTpKTU11Cau5ublavXp1kXq+vr6XNLYGDRro+uuv1+LFi11Oezx9+rQ++ugj5538AOBieI4UgGvG7t27i71Fdr169Tz2jKZnn31WR48eVdu2bVWjRg0dP35cs2bNkre3t3NVp1u3bs5nXFWrVk2HDx/WzJkzVbt2bYWHhxdb97rrrtMzzzyjp556SgMHDlTfvn117NgxTZ48WRUqVNCkSZPcehyF4WjZsmW67777XLZFRESoatWqWrZsma6//nqXMXft2lULFixQw4YN1bRpU23btk3Tp093eTjsnw0ZMkTDhw9XUlKS2rRpowYNGrhsf+655xQfH682bdro0UcfVYMGDZSdna1Dhw7ps88+01tvvXXe2n/ls8UpV66cJk+erOHDh+u+++7TkCFDdPz4cU2ePFmhoaEu198EBgaqdu3a+vjjj9W2bVtVqVJFwcHBlh5seyEFBQXOW7Pn5OQoMTFRK1eu1AcffKBGjRoVCXvneuihh+Tn56dbb71VoaGhSklJ0ZQpUxQUFOS8zq/wuWBz5sxRYGCgKlSooLCwsCKnvV2q8uXLq3379ho7dqwKCgr00ksv6eTJk84HF0tS79699eyzz6pPnz76xz/+oezsbL322mvFXkMVGRmphIQEffLJJwoNDVVgYGCR74909uc2bdo09e/fX127dtXw4cOVk5Oj6dOn6/jx45o6dWqJjgfAtYcgBeCace7qRqG5c+fqwQcf9Mg+W7Vqpa1bt+qJJ57Q77//ruuuu04tW7bUF1984bw2JyYmRh999JHeeecdnTx5Una7Xe3bt9czzzwjb2/v89aeMGGCqlevrtdee03vv/++/Pz8FB0drbi4uPMGsJJq3Lix7Ha7UlJSXE7rk86uOt1+++1avnx5kdPHCkPjlClTdOrUKd10003O24QXp0+fPhozZoyOHj1abBgMDQ3V1q1b9fzzz2v69Ok6evSoAgMDFRYWprvuuuuCp2T9lc+ez7Bhw2Sz2TRt2jTdc889qlOnjp588kl9/PHHSkxMdOk7b948/eMf/1D37t2Vk5OjQYMGOZ/D9FdlZWWpdevWkiQ/Pz9Vq1ZNzZo109y5c9W/f3/n9Xznc/vtt2vBggX64IMPlJ6eruDgYN1222169913nX9kCAsL08yZMzVr1ixFR0crPz9f8+fPL3LDk0v1yCOPKDs7W48++qhSU1PVpEkTffrppy436ggLC9PHH3+sp556Svfdd59CQ0M1duxY/f777y6BSzr7XXv44YfVp08fZWZmOk85LU6/fv0UEBCgKVOmqHfv3ipfvrxuueUWrVu3Tm3atCnR8QC49tjMpdzOBwAAXJLjx4+rfv36uvvuuzVnzpzSHg4AwENYkQIAoIRSUlL04osvKiYmRlWrVtXhw4f16quvKiMjQ6NHjy7t4QEAPIggBQBACfn6+urQoUMaOXKk/vjjD/n7++uWW27RW2+95Tx1EwBwdeLUPgAAAACwiNufAwAAAIBFBCkAAAAAsIggBQAAAAAWcbMJnX2QYVJSkgIDA2Wz2Up7OAAAAABKiTFGGRkZcjgcLg9XPxdBSlJSUpJq1qxZ2sMAAAAAUEYcOXJENWrUOO92gpSkwMBASWcnq1KlSqU8GgAAAACl5eTJk6pZs6YzI5wPQUpyns5XqVIlghQAAACAi17yw80mAAAAAMAighQAAAAAWESQAgAAAACLCFIAAAAAYBFBCgAAAAAsIkgBAAAAgEUEKQAAAACwiCAFAAAAABYRpAAAAADAIoIUAAAAAFhEkAIAAAAAiwhSAAAAAGARQQoAAAAALCJIAQAAAIBFBCkAAAAAsIggBQAAAAAWEaQAAAAAwCKCFAAAAABY5FXaAwCAK1ViYqLS0tI8Ujs4OFi1atXySG0AAPDXEaQAoAQSExPVsEFDZWVneaS+XwU/7du/jzAFAEAZRZACgBJIS0tTVnaWhjUaJoe/w621kzKTNGfvHKWlpRGkAAAoowhSAPAXOPwdqhNYp7SHAQAALjNuNgEAAAAAFpVqkIqNjZXNZnN52e1253ZjjGJjY+VwOOTn56fo6Gjt2bPHpUZOTo5GjRql4OBgBQQEqHv37jp69OjlPhQAAAAA15BSX5Fq0qSJkpOTna9du3Y5t02bNk0zZszQ66+/ri1btshut6t9+/bKyMhw9hkzZoyWLVumJUuWaMOGDTp16pS6du2q/Pz80jgcAAAAANeAUr9GysvLy2UVqpAxRjNnztTEiRPVs2dPSdLChQsVEhKixYsXa/jw4Tpx4oTmzZunf/3rX2rXrp0kadGiRapZs6Y+//xzdezY8bIeCwAAAIBrQ6mvSB04cEAOh0NhYWHq06ePfvnlF0nSwYMHlZKSog4dOjj7+vr6KioqShs3bpQkbdu2TWfOnHHp43A4FBER4exTnJycHJ08edLlBQAAAACXqlSDVKtWrfTuu+9q9erVmjt3rlJSUtSmTRsdO3ZMKSkpkqSQkBCXz4SEhDi3paSkyMfHR5UrVz5vn+JMmTJFQUFBzlfNmjXdfGQAAAAArmalGqQ6deqke++9V5GRkWrXrp0+/fRTSWdP4Stks9lcPmOMKdJ2rov1mTBhgk6cOOF8HTly5C8cBQAAAIBrTamf2vdnAQEBioyM1IEDB5zXTZ27spSamupcpbLb7crNzVV6evp5+xTH19dXlSpVcnkBAAAAwKUqU0EqJydHe/fuVWhoqMLCwmS32xUfH+/cnpubq/Xr16tNmzaSpBYtWsjb29ulT3Jysnbv3u3sAwAAAADuVqp37Rs/fry6deumWrVqKTU1VS+88IJOnjypQYMGyWazacyYMYqLi1N4eLjCw8MVFxcnf39/9evXT5IUFBSkoUOHaty4capataqqVKmi8ePHO08VBAAAAABPKNUgdfToUfXt21dpaWmqVq2abrnlFm3evFm1a9eWJD3++OPKysrSyJEjlZ6erlatWmnNmjUKDAx01nj11Vfl5eWlXr16KSsrS23bttWCBQtUvnz50josAAAAAFe5Ug1SS5YsueB2m82m2NhYxcbGnrdPhQoVNHv2bM2ePdvNowMAAACA4pWpa6QAAAAA4EpAkAIAAAAAiwhSAAAAAGARQQoAAAAALCJIAQAAAIBFBCkAAAAAsIggBQAAAAAWEaQAAAAAwCKCFAAAAABYRJACAAAAAIsIUgAAAABgEUEKAAAAACwiSAEAAACARQQpAAAAALCIIAUAAAAAFhGkAAAAAMAighQAAAAAWESQAgAAAACLCFIAAAAAYBFBCgAAAAAsIkgBAAAAgEUEKQAAAACwiCAFAAAAABYRpAAAAADAIoIUAAAAAFhEkAIAAAAAiwhSAAAAAGARQQoAAAAALCJIAQAAAIBFBCkAAAAAsIggBQAAAAAWEaQAAAAAwCKCFAAAAABYRJACAAAAAIsIUgAAAABgEUEKAAAAACwiSAEAAACARQQpAAAAALCIIAUAAAAAFhGkAAAAAMAighQAAAAAWESQAgAAAACLCFIAAAAAYBFBCgAAAAAsIkgBAAAAgEUEKQAAAACwiCAFAAAAABYRpAAAAADAIoIUAAAAAFhEkAIAAAAAiwhSAAAAAGARQQoAAAAALCJIAQAAAIBFBCkAAAAAsIggBQAAAAAWEaQAAAAAwCKCFAAAAABYRJACAAAAAIsIUgAAAABgEUEKAAAAACwiSAEAAACARQQpAAAAALCIIAUAAAAAFhGkAAAAAMAighQAAAAAWESQAgAAAACLCFIAAAAAYBFBCgAAAAAsIkgBAAAAgEUEKQAAAACwiCAFAAAAABYRpAAAAADAIoIUAAAAAFhEkAIAAAAAiwhSAAAAAGBRmQlSU6ZMkc1m05gxY5xtxhjFxsbK4XDIz89P0dHR2rNnj8vncnJyNGrUKAUHBysgIEDdu3fX0aNHL/PoAQAAAFxLykSQ2rJli+bMmaOmTZu6tE+bNk0zZszQ66+/ri1btshut6t9+/bKyMhw9hkzZoyWLVumJUuWaMOGDTp16pS6du2q/Pz8y30YAAAAAK4RpR6kTp06pf79+2vu3LmqXLmys90Yo5kzZ2rixInq2bOnIiIitHDhQmVmZmrx4sWSpBMnTmjevHl65ZVX1K5dOzVv3lyLFi3Srl279Pnnn5fWIQEAAAC4ypV6kHr44YfVpUsXtWvXzqX94MGDSklJUYcOHZxtvr6+ioqK0saNGyVJ27Zt05kzZ1z6OBwORUREOPsUJycnRydPnnR5AQAAAMCl8irNnS9ZskTbt2/Xli1bimxLSUmRJIWEhLi0h4SE6PDhw84+Pj4+LitZhX0KP1+cKVOmaPLkyX91+AAAAACuUaW2InXkyBGNHj1aixYtUoUKFc7bz2azubw3xhRpO9fF+kyYMEEnTpxwvo4cOWJt8AAAAACuaaUWpLZt26bU1FS1aNFCXl5e8vLy0vr16/Xaa6/Jy8vLuRJ17spSamqqc5vdbldubq7S09PP26c4vr6+qlSpkssLAAAAAC5VqQWptm3bateuXdqxY4fz1bJlS/Xv3187duxQ3bp1ZbfbFR8f7/xMbm6u1q9frzZt2kiSWrRoIW9vb5c+ycnJ2r17t7MPAAAAALhbqV0jFRgYqIiICJe2gIAAVa1a1dk+ZswYxcXFKTw8XOHh4YqLi5O/v7/69esnSQoKCtLQoUM1btw4Va1aVVWqVNH48eMVGRlZ5OYVAAAAAOAupXqziYt5/PHHlZWVpZEjRyo9PV2tWrXSmjVrFBgY6Ozz6quvysvLS7169VJWVpbatm2rBQsWqHz58qU4cgAAAABXszIVpBISElze22w2xcbGKjY29ryfqVChgmbPnq3Zs2d7dnAAAAAA8H9K/TlSAAAAAHClIUgBAAAAgEUEKQAAAACwiCAFAAAAABYRpAAAAADAIoIUAAAAAFhEkAIAAAAAiwhSAAAAAGARQQoAAAAALCJIAQAAAIBFBCkAAAAAsIggBQAAAAAWEaQAAAAAwCKCFAAAAABY5FXaAwAAFG/v3r0eqx0cHKxatWp5rD4AAFc7ghQAlDHHc4/LJpsGDBjgsX34VfDTvv37CFMAAJQQQQoAypjMvEwZGQ2sM1B1q9Z1e/2kzCTN2TtHaWlpBCkAAEqIIAUAZZTdz646gXVKexgAAKAY3GwCAAAAACwiSAEAAACARQQpAAAAALCIIAUAAAAAFhGkAAAAAMAighQAAAAAWESQAgAAAACLCFIAAAAAYBFBCgAAAAAsIkgBAAAAgEUEKQAAAACwiCAFAAAAABYRpAAAAADAIoIUAAAAAFhEkAIAAAAAiwhSAAAAAGARQQoAAAAALCJIAQAAAIBFBCkAAAAAsIggBQAAAAAWeZX2AADAUxITE5WWluaR2nv37vVIXQAAcGUgSAG4KiUmJqphg4bKys7y6H5yc3M9Wh8AAJRNBCkAV6W0tDRlZWdpWKNhcvg73F5/57GdWnpoqfLy8txeGwAAlH0EKQBXNYe/Q3UC67i9blJmkttrAgCAKwc3mwAAAAAAiwhSAAAAAGARQQoAAAAALCJIAQAAAIBFBCkAAAAAsIggBQAAAAAWEaQAAAAAwCKCFAAAAABYRJACAAAAAIsIUgAAAABgEUEKAAAAACwiSAEAAACARQQpAAAAALCIIAUAAAAAFhGkAAAAAMAighQAAAAAWESQAgAAAACLCFIAAAAAYBFBCgAAAAAsIkgBAAAAgEUEKQAAAACwiCAFAAAAABYRpAAAAADAIoIUAAAAAFhEkAIAAAAAiwhSAAAAAGARQQoAAAAALCJIAQAAAIBFBCkAAAAAsIggBQAAAAAWEaQAAAAAwCKCFAAAAABYRJACAAAAAItKFKQOHjzo7nEAAAAAwBWjREHqhhtuUExMjBYtWqTs7OwS7/zNN99U06ZNValSJVWqVEmtW7fWypUrnduNMYqNjZXD4ZCfn5+io6O1Z88elxo5OTkaNWqUgoODFRAQoO7du+vo0aMlHhMAAAAAXEyJgtT333+v5s2ba9y4cbLb7Ro+fLi+/fZby3Vq1KihqVOnauvWrdq6davuvPNO9ejRwxmWpk2bphkzZuj111/Xli1bZLfb1b59e2VkZDhrjBkzRsuWLdOSJUu0YcMGnTp1Sl27dlV+fn5JDg0AAAAALqpEQSoiIkIzZszQr7/+qvnz5yslJUW33XabmjRpohkzZuj333+/pDrdunVT586dVb9+fdWvX18vvviiKlasqM2bN8sYo5kzZ2rixInq2bOnIiIitHDhQmVmZmrx4sWSpBMnTmjevHl65ZVX1K5dOzVv3lyLFi3Srl279Pnnn593vzk5OTp58qTLCwAAAAAu1V+62YSXl5fuueceffDBB3rppZf0888/a/z48apRo4YGDhyo5OTkS66Vn5+vJUuW6PTp02rdurUOHjyolJQUdejQwdnH19dXUVFR2rhxoyRp27ZtOnPmjEsfh8OhiIgIZ5/iTJkyRUFBQc5XzZo1S3D0AAAAAK5VfylIbd26VSNHjlRoaKhmzJih8ePH6+eff9YXX3yhX3/9VT169LhojV27dqlixYry9fXViBEjtGzZMjVu3FgpKSmSpJCQEJf+ISEhzm0pKSny8fFR5cqVz9unOBMmTNCJEyecryNHjlg9dAAAAADXMK+SfGjGjBmaP3++9u/fr86dO+vdd99V586dVa7c2VwWFhamt99+Ww0bNrxorQYNGmjHjh06fvy4PvroIw0aNEjr1693brfZbC79jTFF2s51sT6+vr7y9fW96NgAAAAAoDglClJvvvmmhgwZogceeEB2u73YPrVq1dK8efMuWsvHx0c33HCDJKlly5basmWLZs2apSeeeELS2VWn0NBQZ//U1FTnKpXdbldubq7S09NdVqVSU1PVpk2bkhwaAAAAAFxUiU7tO3DggCZMmHDeECWdDUiDBg2yXNsYo5ycHIWFhclutys+Pt65LTc3V+vXr3eGpBYtWsjb29ulT3Jysnbv3k2QAgAAAOAxJVqRmj9/vipWrKi///3vLu0ffvihMjMzLzlAPfXUU+rUqZNq1qypjIwMLVmyRAkJCVq1apVsNpvGjBmjuLg4hYeHKzw8XHFxcfL391e/fv0kSUFBQRo6dKjGjRunqlWrqkqVKho/frwiIyPVrl27khwaAAAAAFxUiYLU1KlT9dZbbxVpr169uoYNG3bJQeq3337T/fffr+TkZAUFBalp06ZatWqV2rdvL0l6/PHHlZWVpZEjRyo9PV2tWrXSmjVrFBgY6Kzx6quvysvLS7169VJWVpbatm2rBQsWqHz58iU5NAAAAAC4qBIFqcOHDyssLKxIe+3atZWYmHjJdS52DZXNZlNsbKxiY2PP26dChQqaPXu2Zs+efcn7BQAAAIC/okTXSFWvXl07d+4s0v7999+ratWqf3lQAAAAAFCWlShI9enTR48++qjWrVun/Px85efn64svvtDo0aPVp08fd48RAAAAAMqUEp3a98ILL+jw4cNq27atvLzOligoKNDAgQMVFxfn1gECAAAAQFlToiDl4+Oj999/X88//7y+//57+fn5KTIyUrVr13b3+AAAAACgzClRkCpUv3591a9f311jAQAAAIArQomCVH5+vhYsWKC1a9cqNTVVBQUFLtu/+OILtwwOAAAAAMqiEgWp0aNHa8GCBerSpYsiIiJks9ncPS4AAAAAKLNKFKSWLFmiDz74QJ07d3b3eAAAAACgzCvR7c99fHx0ww03uHssAAAAAHBFKFGQGjdunGbNmiVjjLvHAwAAAABlXolO7duwYYPWrVunlStXqkmTJvL29nbZvnTpUrcMDgAAAADKohIFqeuuu0733HOPu8cCAAAAAFeEEgWp+fPnu3scAAAAAHDFKNE1UpKUl5enzz//XG+//bYyMjIkSUlJSTp16pTbBgcAAAAAZVGJVqQOHz6su+66S4mJicrJyVH79u0VGBioadOmKTs7W2+99Za7xwkAAAAAZUaJVqRGjx6tli1bKj09XX5+fs72e+65R2vXrnXb4AAAAACgLCrxXfu+/vpr+fj4uLTXrl1bv/76q1sGBgAAAABlVYlWpAoKCpSfn1+k/ejRowoMDPzLgwIAAACAsqxEQap9+/aaOXOm873NZtOpU6c0adIkde7c2V1jAwAAAIAyqUSn9r366quKiYlR48aNlZ2drX79+unAgQMKDg7We++95+4xAgAAAECZUqIg5XA4tGPHDr333nvavn27CgoKNHToUPXv39/l5hMAAAAAcDUqUZCSJD8/Pw0ZMkRDhgxx53gAAAAAoMwrUZB69913L7h94MCBJRoMAAAAAFwJShSkRo8e7fL+zJkzyszMlI+Pj/z9/QlSAAAAAK5qJbprX3p6usvr1KlT2r9/v2677TZuNgEAAADgqleiIFWc8PBwTZ06tchqFQAAAABcbdwWpCSpfPnySkpKcmdJAAAAAChzSnSN1IoVK1zeG2OUnJys119/XbfeeqtbBgYAAAAAZVWJgtTdd9/t8t5ms6latWq688479corr7hjXAAAAABQZpUoSBUUFLh7HAAAAABwxXDrNVIAAAAAcC0o0YrU2LFjL7nvjBkzSrILAAAAACizShSkvvvuO23fvl15eXlq0KCBJOnHH39U+fLlddNNNzn72Ww294wSAAAAAMqQEgWpbt26KTAwUAsXLlTlypUlnX1I7wMPPKDbb79d48aNc+sgAQAAAKAsKdE1Uq+88oqmTJniDFGSVLlyZb3wwgvctQ8AAADAVa9EQerkyZP67bffirSnpqYqIyPjLw8KAAAAAMqyEgWpe+65Rw888ID+85//6OjRozp69Kj+85//aOjQoerZs6e7xwgAAAAAZUqJrpF66623NH78eA0YMEBnzpw5W8jLS0OHDtX06dPdOkAAAAAAKGtKFKT8/f31xhtvaPr06fr5559ljNENN9yggIAAd48PAAAAAMqcv/RA3uTkZCUnJ6t+/foKCAiQMcZd4wIAAACAMqtEQerYsWNq27at6tevr86dOys5OVmS9OCDD3LrcwAAAABXvRIFqccee0ze3t5KTEyUv7+/s713795atWqV2wYHAAAAAGVRia6RWrNmjVavXq0aNWq4tIeHh+vw4cNuGRgAAAAAlFUlWpE6ffq0y0pUobS0NPn6+v7lQQEAAABAWVaiIHXHHXfo3Xffdb632WwqKCjQ9OnTFRMT47bBAQAAAEBZVKJT+6ZPn67o6Ght3bpVubm5evzxx7Vnzx798ccf+vrrr909RgAAAAAoU0q0ItW4cWPt3LlTN998s9q3b6/Tp0+rZ8+e+u6771SvXj13jxEAAAAAyhTLK1JnzpxRhw4d9Pbbb2vy5MmeGBMAAAAAlGmWg5S3t7d2794tm83mifEAKIHExESlpaV5rH5wcLBq1arlsfoAAABXmhJdIzVw4EDNmzdPU6dOdfd4AFiUmJiohg0aKis7y2P78Kvgp3379xGmAAAA/k+JglRubq7eeecdxcfHq2XLlgoICHDZPmPGDLcMDsDFpaWlKSs7S8MaDZPD3+H2+kmZSZqzd47S0tIIUgAAAP/HUpD65ZdfVKdOHe3evVs33XSTJOnHH3906cMpf0DpcPg7VCewTmkPAwAA4JpgKUiFh4crOTlZ69atkyT17t1br732mkJCQjwyOAAAAAAoiyzd/twY4/J+5cqVOn36tFsHBAAAAABlXYmeI1Xo3GAFAAAAANcCS0HKZrMVuQaKa6IAAAAAXGssXSNljNHgwYPl6+srScrOztaIESOK3LVv6dKl7hshAAAAAJQxloLUoEGDXN4PGDDArYMBAAAAgCuBpSA1f/58T40DAAAAAK4Yf+lmEwAAAABwLSJIAQAAAIBFBCkAAAAAsIggBQAAAAAWEaQAAAAAwCKCFAAAAABYRJACAAAAAIsIUgAAAABgEUEKAAAAACwiSAEAAACARQQpAAAAALCIIAUAAAAAFhGkAAAAAMAighQAAAAAWESQAgAAAACLCFIAAAAAYFGpBqkpU6bob3/7mwIDA1W9enXdfffd2r9/v0sfY4xiY2PlcDjk5+en6Oho7dmzx6VPTk6ORo0apeDgYAUEBKh79+46evTo5TwUAAAAANeQUg1S69ev18MPP6zNmzcrPj5eeXl56tChg06fPu3sM23aNM2YMUOvv/66tmzZIrvdrvbt2ysjI8PZZ8yYMVq2bJmWLFmiDRs26NSpU+ratavy8/NL47AAAAAAXOW8SnPnq1atcnk/f/58Va9eXdu2bdMdd9whY4xmzpypiRMnqmfPnpKkhQsXKiQkRIsXL9bw4cN14sQJzZs3T//617/Url07SdKiRYtUs2ZNff755+rYseNlPy4AAAAAV7cydY3UiRMnJElVqlSRJB08eFApKSnq0KGDs4+vr6+ioqK0ceNGSdK2bdt05swZlz4Oh0MRERHOPufKycnRyZMnXV4AAAAAcKnKTJAyxmjs2LG67bbbFBERIUlKSUmRJIWEhLj0DQkJcW5LSUmRj4+PKleufN4+55oyZYqCgoKcr5o1a7r7cAAAAABcxUr11L4/e+SRR7Rz505t2LChyDabzeby3hhTpO1cF+ozYcIEjR071vn+5MmThCkA15y9e/d6pG5wcLBq1arlkdoAAJQVZSJIjRo1SitWrNCXX36pGjVqONvtdruks6tOoaGhzvbU1FTnKpXdbldubq7S09NdVqVSU1PVpk2bYvfn6+srX19fTxwKAJR5x3OPyyabBgwY4JH6fhX8tG//PsIUAOCqVqpByhijUaNGadmyZUpISFBYWJjL9rCwMNntdsXHx6t58+aSpNzcXK1fv14vvfSSJKlFixby9vZWfHy8evXqJUlKTk7W7t27NW3atMt7QABwBcjMy5SR0cA6A1W3al231k7KTNKcvXOUlpZGkAIAXNVKNUg9/PDDWrx4sT7++GMFBgY6r2kKCgqSn5+fbDabxowZo7i4OIWHhys8PFxxcXHy9/dXv379nH2HDh2qcePGqWrVqqpSpYrGjx+vyMhI5138AABF2f3sqhNYp7SHAQDAFalUg9Sbb74pSYqOjnZpnz9/vgYPHixJevzxx5WVlaWRI0cqPT1drVq10po1axQYGOjs/+qrr8rLy0u9evVSVlaW2rZtqwULFqh8+fKX61AAAAAAXENK/dS+i7HZbIqNjVVsbOx5+1SoUEGzZ8/W7Nmz3Tg6AAAAAChembjZBADg6uKpOwJK3BUQAFA2EKQAAG7j6TsCStwVEABQNhCkAJSqxMREpaWlub2uJ1dEcH6evCOgxF0BAQBlB0EKQKlJTExUwwYNlZWd5bF95Obmeqw2zo87AgIArnYEKQClJi0tTVnZWRrWaJgc/g631t55bKeWHlqqvLw8t9bF1c1TK6SFuL4LAK4eBCkApc7h73D76kVSZpJb6+HqdzlWSLm+CwCuHgQpAADk2RVSieu7AOBqQ5ACAOBPPLFCCgC4+pQr7QEAAAAAwJWGIAUAAAAAFhGkAAAAAMAirpECLhMePAsAAHD1IEgBlwEPngUAALi6EKSAy4AHzwIAAFxdCFLAZcSDZwEAAK4OBCkAl8QT12JxfRdKiu8jAKC0EaQAXNDx3OOyyaYBAwZ4bB9c34VLxfcRAFBWEKQAXFBmXqaMjAbWGai6Veu6tTbXd8Eqvo8AgLKCIAXgktj97FzfhTKD7yMAoLTxQF4AAAAAsIggBQAAAAAWEaQAAAAAwCKCFAAAAABYRJACAAAAAIsIUgAAAABgEUEKAAAAACwiSAEAAACARQQpAAAAALCIIAUAAAAAFhGkAAAAAMAighQAAAAAWESQAgAAAACLCFIAAAAAYBFBCgAAAAAsIkgBAAAAgEUEKQAAAACwiCAFAAAAABYRpAAAAADAIoIUAAAAAFhEkAIAAAAAiwhSAAAAAGARQQoAAAAALCJIAQAAAIBFBCkAAAAAsIggBQAAAAAWeZX2AICyIjExUWlpaR6pvXfvXo/UBQAAQOkgSAE6G6IaNmiorOwsj+4nNzfXo/UBAABweRCkAElpaWnKys7SsEbD5PB3uL3+zmM7tfTQUuXl5bm9NgAAAC4/ghTwJw5/h+oE1nF73aTMJLfXBAAAQOnhZhMAAAAAYBFBCgAAAAAsIkgBAAAAgEUEKQAAAACwiCAFAAAAABYRpAAAAADAIoIUAAAAAFhEkAIAAAAAiwhSAAAAAGARQQoAAAAALCJIAQAAAIBFBCkAAAAAsIggBQAAAAAWEaQAAAAAwCKCFAAAAABYRJACAAAAAIsIUgAAAABgEUEKAAAAACwiSAEAAACARQQpAAAAALCIIAUAAAAAFhGkAAAAAMAighQAAAAAWESQAgAAAACLCFIAAAAAYBFBCgAAAAAsKtUg9eWXX6pbt25yOByy2Wxavny5y3ZjjGJjY+VwOOTn56fo6Gjt2bPHpU9OTo5GjRql4OBgBQQEqHv37jp69OhlPAoAAAAA15pSDVKnT59Ws2bN9Prrrxe7fdq0aZoxY4Zef/11bdmyRXa7Xe3bt1dGRoazz5gxY7Rs2TItWbJEGzZs0KlTp9S1a1fl5+dfrsMAAAAAcI3xKs2dd+rUSZ06dSp2mzFGM2fO1MSJE9WzZ09J0sKFCxUSEqLFixdr+PDhOnHihObNm6d//etfateunSRp0aJFqlmzpj7//HN17Njxsh0LAAAAgGtHmb1G6uDBg0pJSVGHDh2cbb6+voqKitLGjRslSdu2bdOZM2dc+jgcDkVERDj7FCcnJ0cnT550eQEAAADApSrVFakLSUlJkSSFhIS4tIeEhOjw4cPOPj4+PqpcuXKRPoWfL86UKVM0efJkN48Yl0NiYqLS0tLcXnfv3r1urwkAAICrV5kNUoVsNpvLe2NMkbZzXazPhAkTNHbsWOf7kydPqmbNmn9toPC4xMRENWzQUFnZWR7bR25ursdqAwAA4OpRZoOU3W6XdHbVKTQ01NmemprqXKWy2+3Kzc1Venq6y6pUamqq2rRpc97avr6+8vX19dDI4SlpaWnKys7SsEbD5PB3uLX2zmM7tfTQUuXl5bm1LgAAAK5OZTZIhYWFyW63Kz4+Xs2bN5d0drVg/fr1eumllyRJLVq0kLe3t+Lj49WrVy9JUnJysnbv3q1p06aV2tjhWQ5/h+oE1nFrzaTMJLfWAwAAwNWtVIPUqVOn9NNPPznfHzx4UDt27FCVKlVUq1YtjRkzRnFxcQoPD1d4eLji4uLk7++vfv36SZKCgoI0dOhQjRs3TlWrVlWVKlU0fvx4RUZGOu/iBwAAAADuVqpBauvWrYqJiXG+L7xuadCgQVqwYIEef/xxZWVlaeTIkUpPT1erVq20Zs0aBQYGOj/z6quvysvLS7169VJWVpbatm2rBQsWqHz58pf9eAAAAABcG0o1SEVHR8sYc97tNptNsbGxio2NPW+fChUqaPbs2Zo9e7YHRggAAAAARZXZa6QAAMCl89TjIQoFBwerVq1aHqsPAFcaghQAAFe4y/F4CL8Kftq3fx9hCgD+D0EKAIArnCcfDyGdvbPpnL1zlJaWRpACgP9DkAIA4CrhicdDAACKV660BwAAAAAAVxqCFAAAAABYRJACAAAAAIsIUgAAAABgEUEKAAAAACwiSAEAAACARQQpAAAAALCIIAUAAAAAFhGkAAAAAMAighQAAAAAWESQAgAAAACLCFIAAAAAYBFBCgAAAAAsIkgBAAAAgEUEKQAAAACwiCAFAAAAABYRpAAAAADAIoIUAAAAAFhEkAIAAAAAiwhSAAAAAGARQQoAAAAALCJIAQAAAIBFBCkAAAAAsIggBQAAAAAWEaQAAAAAwCKCFAAAAABYRJACAAAAAIsIUgAAAABgEUEKAAAAACwiSAEAAACARQQpAAAAALCIIAUAAAAAFhGkAAAAAMAighQAAAAAWESQAgAAAACLvEp7AAAAXEv27t17RdQEAFwYQQoAgMvgeO5x2WTTgAEDPLaP3Nxcj9UGALgiSAEAcBlk5mXKyGhgnYGqW7WuW2vvPLZTSw8tVV5enlvrAgDOjyAFAMBlZPezq05gHbfWTMpMcms9AMDFEaQAAMAl8dS1WMHBwapVq5ZHagOApxCkAADABXn6+i6/Cn7at38fYQrAFYUgBQAALsiT13clZSZpzt45SktLI0gBuKIQpAAAwCXxxPVdAHCl4oG8AAAAAGARQQoAAAAALCJIAQAAAIBFBCkAAAAAsIggBQAAAAAWcdc+uFViYqLS0tI8UttTD4IEAAAArCJIwW0SExPVsEFDZWVneXQ/ubm5Hq0PAAAAXAxBCm6TlpamrOwsDWs0TA5/h9vr7zy2U0sPLVVeXp7bawMAAABWEKTgdg5/h0ce2JiUmeT2mgAAAEBJcLMJAAAAALCIIAUAAAAAFnFqHwAAKHWevDNrcHCwatWq5bH6AK5NBCkAAFBqjucel002DRgwwGP78Kvgp3379xGmALgVQQoAAJSazLxMGRkNrDNQdavWdXv9pMwkzdk7R2lpaQQpAG5FkLoGeeqhuTwwFwBQUnY/u0fu+AoAnkKQusZcjofm8sBcAAAAXO0IUtcYTz40lwfmAgAA4FpBkLpGeeKhuTwwFwAAANcKniMFAAAAABYRpAAAAADAIoIUAAAAAFhEkAIAAAAAiwhSAAAAAGARd+0DAABXPU89ND4nJ0e+vr4eqS1JwcHBqlWrlsfqAyg5ghQAALhqHc89LptsGjBggEfq22STkfFIbUnyq+Cnffv3EaaAMoggBQAArlqZeZkyMhpYZ6DqVq3r1tqFD6L3RG3p7PMZ5+ydo7S0NIIUUAYRpAAAwFXP7mf32IPoPVEbQNlHkCqDEhMTlZaW5pHanjpHHAAA4M88+fsM146hLCBIlTGJiYlq2KChsrKzPLqf3Nxcj9YHAABlmyeDTnJysu679z5l52R7pL6vr68++ugjhYaGeqQ+QQ2X4qoJUm+88YamT5+u5ORkNWnSRDNnztTtt99e2sOyLC0tTVnZWRrWaJgc/g631y88nzsvL8/ttQEAwJXhcv3h9oEbHlDtoNpurfnjiR/13k/vqWvXrm6t+2fc5AOX4qoIUu+//77GjBmjN954Q7feeqvefvttderUST/88MMV+w/A4e/wyPnWhedzAwCAa9fl+sNtNe9qHrk2zVM3ECmsz00+iufJVUzpylsJvCqC1IwZMzR06FA9+OCDkqSZM2dq9erVevPNNzVlypRSHh0AAEDZdCX/4ZabfFxel2MV80pbCbzig1Rubq62bdumJ5980qW9Q4cO2rhxY7GfycnJUU5OjvP9iRMnJEknT5703EAv0alTpyRJhzIOKTvf/ecVJ59OliQlnk5UuePlrpjanq7P2Eun/pVa29P1GXvp1GfspVOfsZ9fSmaKJGnbtm3O3w/cZf/+/ZL4faM4npx3SSpXrpwKCgrcXtfT9ffv36+s7CzdVfMuVfWp6vb6x3KPadWRVTp06JCuu+46t9e3ojATGHPhZ8TZzMV6lHFJSUm6/vrr9fXXX6tNmzbO9ri4OC1cuND5fxR/Fhsbq8mTJ1/OYQIAAAC4ghw5ckQ1atQ47/YrfkWqkM1mc3lvjCnSVmjChAkaO3as831BQYH++OMPVa1a9byfKS0nT55UzZo1deTIEVWqVKm0h3PNYN5LB/NeOpj30sG8lw7mvXQw76WDeS8ZY4wyMjLkcFz4+sErPkgFBwerfPnySklJcWlPTU1VSEhIsZ/x9fWVr6+vS1tpLyFeTKVKlfgHUAqY99LBvJcO5r10MO+lg3kvHcx76WDerQsKCrpoH/efWHqZ+fj4qEWLFoqPj3dpj4+PdznVDwAAAADc5YpfkZKksWPH6v7771fLli3VunVrzZkzR4mJiRoxYkRpDw0AAADAVeiqCFK9e/fWsWPH9Nxzzyk5OVkRERH67LPPVLu2ex8AVxp8fX01adKkIqciwrOY99LBvJcO5r10MO+lg3kvHcx76WDePeuKv2sfAAAAAFxuV/w1UgAAAABwuRGkAAAAAMAighQAAAAAWESQAgAAAACLCFKl4M0331TTpk2dD0dr3bq1Vq5c6dxujFFsbKwcDof8/PwUHR2tPXv2uNTIycnRqFGjFBwcrICAAHXv3l1Hjx693IdyxZoyZYpsNpvGjBnjbGPePSM2NlY2m83lZbfbnduZd8/59ddfNWDAAFWtWlX+/v668cYbtW3bNud25t796tSpU+T7brPZ9PDDD0tizj0lLy9PTz/9tMLCwuTn56e6devqueeeU0FBgbMPc+8ZGRkZGjNmjGrXri0/Pz+1adNGW7ZscW5n3v+6L7/8Ut26dZPD4ZDNZtPy5ctdtrtrjtPT03X//fcrKChIQUFBuv/++3X8+HEPH90VzuCyW7Fihfn000/N/v37zf79+81TTz1lvL29ze7du40xxkydOtUEBgaajz76yOzatcv07t3bhIaGmpMnTzprjBgxwlx//fUmPj7ebN++3cTExJhmzZqZvLy80jqsK8a3335r6tSpY5o2bWpGjx7tbGfePWPSpEmmSZMmJjk52flKTU11bmfePeOPP/4wtWvXNoMHDzbffPONOXjwoPn888/NTz/95OzD3Ltfamqqy3c9Pj7eSDLr1q0zxjDnnvLCCy+YqlWrmv/+97/m4MGD5sMPPzQVK1Y0M2fOdPZh7j2jV69epnHjxmb9+vXmwIEDZtKkSaZSpUrm6NGjxhjm3R0+++wzM3HiRPPRRx8ZSWbZsmUu2901x3fddZeJiIgwGzduNBs3bjQRERGma9eul+swr0gEqTKicuXK5p133jEFBQXGbrebqVOnOrdlZ2eboKAg89ZbbxljjDl+/Ljx9vY2S5Yscfb59ddfTbly5cyqVasu+9ivJBkZGSY8PNzEx8ebqKgoZ5Bi3j1n0qRJplmzZsVuY94954knnjC33Xbbebcz95fH6NGjTb169UxBQQFz7kFdunQxQ4YMcWnr2bOnGTBggDGG77unZGZmmvLly5v//ve/Lu3NmjUzEydOZN494Nwg5a45/uGHH4wks3nzZmefTZs2GUlm3759Hj6qKxen9pWy/Px8LVmyRKdPn1br1q118OBBpaSkqEOHDs4+vr6+ioqK0saNGyVJ27Zt05kzZ1z6OBwORUREOPugeA8//LC6dOmidu3aubQz75514MABORwOhYWFqU+fPvrll18kMe+etGLFCrVs2VJ///vfVb16dTVv3lxz5851bmfuPS83N1eLFi3SkCFDZLPZmHMPuu2227R27Vr9+OOPkqTvv/9eGzZsUOfOnSXxffeUvLw85efnq0KFCi7tfn5+2rBhA/N+Gbhrjjdt2qSgoCC1atXK2eeWW25RUFAQP4cLIEiVkl27dqlixYry9fXViBEjtGzZMjVu3FgpKSmSpJCQEJf+ISEhzm0pKSny8fFR5cqVz9sHRS1ZskTbt2/XlClTimxj3j2nVatWevfdd7V69WrNnTtXKSkpatOmjY4dO8a8e9Avv/yiN998U+Hh4Vq9erVGjBihRx99VO+++64kvvOXw/Lly3X8+HENHjxYEnPuSU888YT69u2rhg0bytvbW82bN9eYMWPUt29fScy9pwQGBqp169Z6/vnnlZSUpPz8fC1atEjffPONkpOTmffLwF1znJKSourVqxepX716dX4OF+BV2gO4VjVo0EA7duzQ8ePH9dFHH2nQoEFav369c7vNZnPpb4wp0nauS+lzrTpy5IhGjx6tNWvWFPnL2Z8x7+7XqVMn539HRkaqdevWqlevnhYuXKhbbrlFEvPuCQUFBWrZsqXi4uIkSc2bN9eePXv05ptvauDAgc5+zL3nzJs3T506dZLD4XBpZ87d7/3339eiRYu0ePFiNWnSRDt27NCYMWPkcDg0aNAgZz/m3v3+9a9/aciQIbr++utVvnx53XTTTerXr5+2b9/u7MO8e5475ri4/vwcLowVqVLi4+OjG264QS1bttSUKVPUrFkzzZo1y3k3s3PTf2pqqvOvDXa7Xbm5uUpPTz9vH7jatm2bUlNT1aJFC3l5ecnLy0vr16/Xa6+9Ji8vL+e8Me+eFxAQoMjISB04cIDvuweFhoaqcePGLm2NGjVSYmKiJDH3Hnb48GF9/vnnevDBB51tzLnn/OMf/9CTTz6pPn36KDIyUvfff78ee+wx5xkIzL3n1KtXT+vXr9epU6d05MgRffvttzpz5ozCwsKY98vAXXNst9v122+/Fan/+++/83O4AIJUGWGMUU5OjvP/eOLj453bcnNztX79erVp00aS1KJFC3l7e7v0SU5O1u7du5194Kpt27batWuXduzY4Xy1bNlS/fv3144dO1S3bl3m/TLJycnR3r17FRoayvfdg2699Vbt37/fpe3HH39U7dq1JYm597D58+erevXq6tKli7ONOfeczMxMlSvn+itN+fLlnbc/Z+49LyAgQKGhoUpPT9fq1avVo0cP5v0ycNcct27dWidOnNC3337r7PPNN9/oxIkT/Bwu5HLf3QLGTJgwwXz55Zfm4MGDZufOneapp54y5cqVM2vWrDHGnL2NZVBQkFm6dKnZtWuX6du3b7G3saxRo4b5/PPPzfbt282dd97JrUIt+vNd+4xh3j1l3LhxJiEhwfzyyy9m8+bNpmvXriYwMNAcOnTIGMO8e8q3335rvLy8zIsvvmgOHDhg/v3vfxt/f3+zaNEiZx/m3jPy8/NNrVq1zBNPPFFkG3PuGYMGDTLXX3+98/bnS5cuNcHBwebxxx939mHuPWPVqlVm5cqV5pdffjFr1qwxzZo1MzfffLPJzc01xjDv7pCRkWG+++4789133xlJZsaMGea7774zhw8fNsa4b47vuusu07RpU7Np0yazadMmExkZye3PL4IgVQqGDBliateubXx8fEy1atVM27ZtnSHKmLO3spw0aZKx2+3G19fX3HHHHWbXrl0uNbKysswjjzxiqlSpYvz8/EzXrl1NYmLi5T6UK9q5QYp594zC51l4e3sbh8Nhevbsafbs2ePczrx7zieffGIiIiKMr6+vadiwoZkzZ47LdubeM1avXm0kmf379xfZxpx7xsmTJ83o0aNNrVq1TIUKFUzdunXNxIkTTU5OjrMPc+8Z77//vqlbt67x8fExdrvdPPzww+b48ePO7cz7X7du3Tojqchr0KBBxhj3zfGxY8dM//79TWBgoAkMDDT9+/c36enpl+kor0w2Y4wpxQUxAAAAALjicI0UAAAAAFhEkAIAAAAAiwhSAAAAAGARQQoAAAAALCJIAQAAAIBFBCkAAAAAsIggBQAAAAAWEaQAAAAAwCKCFACgVMXGxurGG28s7WE42Ww2LV++vLSHIUkaPHiw7r777r9cp6zNMQBcDQhSAHANeOuttxQYGKi8vDxn26lTp+Tt7a3bb7/dpe9XX30lm82mH3/88XIP87JyZ7iIjo6WzWYr8hoxYsRfqjtr1iwtWLDgL49v/PjxWrt27V+uAwD4/7xKewAAAM+LiYnRqVOntHXrVt1yyy2SzgYmu92uLVu2KDMzU/7+/pKkhIQEORwO1a9fvzSHfMV56KGH9Nxzz7m0Fc5pSQUFBf2lzxeqWLGiKlas6JZaAICzWJECgGtAgwYN5HA4lJCQ4GxLSEhQjx49VK9ePW3cuNGlPSYmRpK0aNEitWzZUoGBgbLb7erXr59SU1MlSQUFBapRo4beeustl31t375dNptNv/zyiyTpxIkTGjZsmKpXr65KlSrpzjvv1Pfff3/B8c6fP1+NGjVShQoV1LBhQ73xxhvObYcOHZLNZtPSpUsVExMjf39/NWvWTJs2bXKpMXfuXNWsWVP+/v665557NGPGDF133XWSpAULFmjy5Mn6/vvvnatHf175SUtL0z333CN/f3+Fh4drxYoVF51jf39/2e12l1elSpVcxvzBBx/o9ttvl5+fn/72t7/pxx9/1JYtW9SyZUtVrFhRd911l37//XdnzXNP7fvPf/6jyMhI+fn5qWrVqmrXrp1Onz4t6ezP7eabb1ZAQICuu+463XrrrTp8+LCkoqtvBQUFeu6551SjRg35+vrqxhtv1KpVqyzPMQBcywhSAHCNiI6O1rp165zv161bp+joaEVFRTnbc3NztWnTJmeQys3N1fPPP6/vv/9ey5cv18GDBzV48GBJUrly5dSnTx/9+9//dtnP4sWL1bp1a9WtW1fGGHXp0kUpKSn67LPPtG3bNt10001q27at/vjjj2LHOXfuXE2cOFEvvvii9u7dq7i4OD3zzDNauHChS7+JEydq/Pjx2rFjh+rXr6++ffs6T138+uuvNWLECI0ePVo7duxQ+/bt9eKLLzo/27t3b40bN05NmjRRcnKykpOT1bt3b+f2yZMnq1evXtq5c6c6d+6s/v37n3e8VkyaNElPP/20tm/fLi8vL/Xt21ePP/64Zs2apa+++ko///yznn322WI/m5ycrL59+2rIkCHau3evEhIS1LNnTxljlJeXp7vvvltRUVHauXOnNm3apGHDhslmsxVba9asWXrllVf08ssva+fOnerYsaO6d++uAwcOuPS70BwDwDXPAACuCXPmzDEBAQHmzJkz5uTJk8bLy8v89ttvZsmSJaZNmzbGGGPWr19vJJmff/652BrffvutkWQyMjKMMcZs377d2Gw2c+jQIWOMMfn5+eb66683//znP40xxqxdu9ZUqlTJZGdnu9SpV6+eefvtt40xxkyaNMk0a9bMua1mzZpm8eLFLv2ff/5507p1a2OMMQcPHjSSzDvvvOPcvmfPHiPJ7N271xhjTO/evU2XLl1cavTv398EBQU535+730KSzNNPP+18f+rUKWOz2czKlSuLnRNjjImKijLe3t4mICDA5bVgwYLzjvm9994zkszatWudbVOmTDENGjRwvh80aJDp0aOHMcaYbdu2GUnOuf6zY8eOGUkmISGh2PGde6wOh8O8+OKLLn3+9re/mZEjR553vOfOMQBc61iRAoBrRExMjE6fPq0tW7boq6++Uv369VW9enVFRUVpy5YtOn36tBISElSrVi3VrVtXkvTdd9+pR48eql27tgIDAxUdHS1JSkxMlCQ1b95cDRs21HvvvSdJWr9+vVJTU9WrVy9J0rZt23Tq1ClVrVrVeZ1OxYoVdfDgQf38889Fxvj777/ryJEjGjp0qEv/F154oUj/pk2bOv87NDRUkpynHe7fv18333yzS/9z31/In2sHBAQoMDDQWft8+vfvrx07dri87rnnnvPWDQkJkSRFRka6tJ1vP82aNVPbtm0VGRmpv//975o7d67S09MlSVWqVNHgwYPVsWNHdevWTbNmzVJycnKxdU6ePKmkpCTdeuutLu233nqr9u7de97xnjvHAHCt42YTAHCNuOGGG1SjRg2tW7dO6enpioqKkiTZ7XaFhYXp66+/1rp163TnnXdKkk6fPq0OHTqoQ4cOWrRokapVq6bExER17NhRubm5zrr9+/fX4sWL9eSTT2rx4sXq2LGjgoODJZ29Fic0NNTl2qxChdcr/VlBQYGks6f3tWrVymVb+fLlXd57e3s7/7vwFLbCzxtjipzWZoy56BwVV7uwfmHt8wkKCtINN9xwyXULx3du2/n2U758ecXHx2vjxo1as2aNZs+erYkTJ+qbb75RWFiY5s+fr0cffVSrVq3S+++/r6efflrx8fHOm4ucq7j5ObftQnMMANc6VqQA4BoSExOjhIQEJSQkOFeXJCkqKkqrV6/W5s2bnddH7du3T2lpaZo6dapuv/12NWzYsNjViH79+mnXrl3atm2b/vOf/6h///7ObTfddJNSUlLk5eWlG264weVVGLb+LCQkRNdff71++eWXIv3DwsIu+TgbNmyob7/91qVt69atLu99fHyUn59/yTXLApvNpltvvVWTJ0/Wd999Jx8fHy1btsy5vXnz5powYYI2btyoiIgILV68uEiNSpUqyeFwaMOGDS7tGzduVKNGjTx+DABwtWBFCgCuITExMXr44Yd15swZ54qUdDZI/c///I+ys7OdQapWrVry8fHR7NmzNWLECO3evVvPP/98kZphYWFq06aNhg4dqry8PPXo0cO5rV27dmrdurXuvvtuvfTSS2rQoIGSkpL02Wef6e6771bLli2L1IuNjdWjjz6qSpUqqVOnTsrJydHWrVuVnp6usWPHXtJxjho1SnfccYdmzJihbt266YsvvtDKlStdVlzq1KmjgwcPaseOHapRo4YCAwPl6+t7yXN5rszMTKWkpLi0+fr6qnLlyiWu+WfffPON1q5dqw4dOqh69er65ptv9Pvvv6tRo0Y6ePCg5syZo+7du8vhcGj//v368ccfNXDgwGJr/eMf/9CkSZNUr1493XjjjZo/f7527NhR5MYhAIDzY0UKAK4hMTExysrK0g033OC8Rkc6G6QyMjJUr1491axZU5JUrVo1LViwQB9++KEaN26sqVOn6uWXXy62bv/+/fX999+rZ8+e8vPzc7bbbDZ99tlnuuOOOzRkyBDVr19fffr00aFDh1z2/2cPPvig3nnnHS1YsECRkZGKiorSggULLK1I3XrrrXrrrbc0Y8YMNWvWTKtWrdJjjz2mChUqOPvce++9uuuuuxQTE6Nq1ao5r/Mqqblz5yo0NNTl1bdv379U888qVaqkL7/8Up07d1b9+vX19NNP65VXXlGnTp3k7++vffv26d5771X9+vU1bNgwPfLIIxo+fHixtR599FGNGzdO48aNU2RkpFatWqUVK1YoPDzcbeMFgKudzVg5aRwAgCvUQw89pH379umrr74q7aEAAK4CnNoHALgqvfzyy2rfvr0CAgK0cuVKLVy40OXBvgAA/BWsSAEArkq9evVSQkKCMjIyVLduXY0aNUojRowo7WEBAK4SBCkAAAAAsIibTQAAAACARQQpAAAAALCIIAUAAAAAFhGkAAAAAMAighQAAAAAWESQAgAAAACLCFIAAAAAYBFBCgAAAAAs+n+oO6j0+pqtIQAAAABJRU5ErkJggg==",
      "text/plain": [
       "<Figure size 1000x600 with 1 Axes>"
      ]
     },
     "metadata": {},
     "output_type": "display_data"
    }
   ],
   "source": [
    "plt.figure(figsize=(10, 6))\n",
    "#Plot histogram distribution\n",
    "sns.histplot(df_unique['emission'], bins=30, color=\"purple\")\n",
    "#Define title and lables\n",
    "plt.title('Emission Wavelength Distribution')\n",
    "plt.xlabel('Wavelength Emission')\n",
    "plt.ylabel('Frequency')\n",
    "\n",
    "plt.show()"
   ]
  },
  {
   "cell_type": "markdown",
   "id": "9dc9b37d-dca6-41c6-be4b-aeaaec09fa67",
   "metadata": {},
   "source": [
    "## 5. Feature Extraction\n",
    "As the next step, we define the label and molecular features to be used in machine learning model.\n",
    "Molecular fingerprints are generated using RDKit’s Morgan fingerprinting method. Radius=2 captures atom neighborhoods up to 2 bonds away and fpSize=4096 sets the fingerprint length (number of bits)."
   ]
  },
  {
   "cell_type": "code",
   "execution_count": 13,
   "id": "cffd4875-0047-4bba-8992-1b3a4d60fa67",
   "metadata": {},
   "outputs": [],
   "source": [
    "#Define target and feature\n",
    "smiles_list = df_unique['smiles']\n",
    "targets = df_unique['emission']\n",
    "#Define a function for using Morgan generator\n",
    "morgan_gen = GetMorganGenerator(radius=2, fpSize=4096)\n",
    "\n",
    "def smiles_to_morgan_fp(smiles):\n",
    "    try:\n",
    "        mol = Chem.MolFromSmiles(smiles) #Convert SMILES to RDKit molecule\n",
    "        if mol:\n",
    "            return list(morgan_gen.GetFingerprint(mol)) #Return fingerprint as list of bits\n",
    "    except:\n",
    "        pass\n",
    "    return None\n",
    "#Generate Morgan fingerprints for each SMILES in the dataset\n",
    "fps = [smiles_to_morgan_fp(smiles) for smiles in df_unique['smiles']]\n",
    "#Filter out entries with invalid or missing fingerprints\n",
    "valid_idx = [i for i, fp in enumerate(fps) if fp is not None] \n",
    "#Prepare feature matrix X (Morgan) and target vector y (wavelength) for machine learning\n",
    "X = np.array([list(fps[i]) for i in valid_idx])                  \n",
    "y = df_unique.iloc[valid_idx]['emission'].values "
   ]
  },
  {
   "cell_type": "markdown",
   "id": "1930d05c-5880-473d-813b-a079731b1438",
   "metadata": {},
   "source": [
    "## 6. Machine Learning Model\n",
    "In the next step, we develop Random Forest regression model. As stated previously, the label is emission wavelength \n",
    "and features are the fingerprints generated based on SMILES strings. First, we split the dataset into a train and test set."
   ]
  },
  {
   "cell_type": "code",
   "execution_count": 15,
   "id": "2f7edd8a-5666-4c58-b8a1-855688ae6ed8",
   "metadata": {},
   "outputs": [],
   "source": [
    "X_train, X_test, y_train, y_test = train_test_split(X, y, test_size=0.20, random_state=42)"
   ]
  },
  {
   "cell_type": "markdown",
   "id": "65728430-6875-48a0-a3de-d8aa24ae096f",
   "metadata": {},
   "source": [
    "Now, we train the model to learn to predict emission wavelengths based on molecular structure represented by Morgan \n",
    "fingerprints."
   ]
  },
  {
   "cell_type": "code",
   "execution_count": null,
   "id": "4149d50b-6b9f-463e-95f5-b49af72e9cfe",
   "metadata": {},
   "outputs": [],
   "source": [
    "rf = RandomForestRegressor(n_estimators=100, random_state=42)\n",
    "rf.fit(X_train, y_train)"
   ]
  },
  {
   "cell_type": "markdown",
   "id": "96a71965-ebcb-4ca4-b381-a60a38faedc2",
   "metadata": {},
   "source": [
    "## 7. Model Performance on Training Set\n",
    "After training the Random Forest Regressor, we evaluate its performance using Root Mean Squared Error (RMSE) and R² Score on the training data."
   ]
  },
  {
   "cell_type": "code",
   "execution_count": null,
   "id": "68ab339f-24c4-4023-a760-c575d230f2a8",
   "metadata": {},
   "outputs": [],
   "source": [
    "#Predict on the training set\n",
    "y_train_pred = rf.predict(X_train) \n",
    "#Calculate evaluation metrics\n",
    "RMSE = np.sqrt(mean_squared_error(y_train, y_train_pred))\n",
    "R2 = r2_score(y_train, y_train_pred)\n",
    "#Print results\n",
    "print(f\"RMSE: {RMSE:.2f}\")\n",
    "print(f\"R² Score: {R2:.2f}\")"
   ]
  },
  {
   "cell_type": "markdown",
   "id": "a73383b0-7c1f-44c2-a3fe-191bde177911",
   "metadata": {},
   "source": [
    "## 8. Visualization: Measured vs. Predicted Emission (Training Set)\n",
    "This plot provides a visual assessment of how well the Random Forest model's predictions match the actual emission values on the training set."
   ]
  },
  {
   "cell_type": "code",
   "execution_count": null,
   "id": "a14acc31-67ab-4440-a308-ef894ad503e4",
   "metadata": {},
   "outputs": [],
   "source": [
    "plt.figure(figsize=(6,6))\n",
    "# Scatter plot of actual vs predicted values\n",
    "plt.scatter(y_train, y_train_pred, alpha=0.3, color='crimson')\n",
    "# Reference line (perfect prediction)\n",
    "plt.plot([y_train.min(), y_train.max()], [y_train_pred.min(),y_train_pred.max()], '--g')\n",
    "plt.xlabel(\"Measured Emission Wavelength\")\n",
    "plt.ylabel(\"Predicted Emission Wavelength\")\n",
    "plt.title(\"Measured vs Predicted for Training Set\")\n",
    "plt.savefig('Final_graph.pdf')\n",
    "\n",
    "plt.show()"
   ]
  },
  {
   "cell_type": "markdown",
   "id": "eeb1ba22-d8c9-4f36-868f-b402abc81e6a",
   "metadata": {},
   "source": [
    "## 9. Model Performance on Test Set\n",
    "To evaluate the generalization ability of the trained Random Forest model, we evaluate its performance on unseen data (test set) using RMSE and R² Score."
   ]
  },
  {
   "cell_type": "code",
   "execution_count": null,
   "id": "1c65053e-da3a-479b-a369-843fc9e98c4f",
   "metadata": {},
   "outputs": [],
   "source": [
    "#Predict on the test set\n",
    "y_test_pred = rf.predict(X_test)\n",
    "#Calculate evaluation metrics\n",
    "RMSE = np.sqrt(mean_squared_error(y_test, y_test_pred))\n",
    "R2 = r2_score(y_test, y_test_pred)\n",
    "#Print results\n",
    "print(f\"RMSE: {RMSE:.2f}\")\n",
    "print(f\"R² Score: {R2:.2f}\")"
   ]
  },
  {
   "cell_type": "markdown",
   "id": "2733c97a-f704-4a3f-9259-5bff3099c238",
   "metadata": {},
   "source": [
    "## 10. Visualization: Measured vs. Predicted Emission (Test Set)"
   ]
  },
  {
   "cell_type": "code",
   "execution_count": null,
   "id": "b4bc51dc-3326-4c7e-9b28-59b2879c96ae",
   "metadata": {},
   "outputs": [],
   "source": [
    "plt.figure(figsize=(6,6))\n",
    "# Scatter plot of actual vs predicted values\n",
    "plt.scatter(y_test, y_test_pred, alpha=0.4, color='purple')\n",
    "# Reference line (perfect prediction)\n",
    "plt.plot([y_test.min(), y_test.max()], [y_test_pred.min(),y_test_pred.max()], '--g')\n",
    "plt.xlabel(\"Measured Emission Wavelength\")\n",
    "plt.ylabel(\"Predicted Emission Wavelength\")\n",
    "plt.title(\"Measured vs Predicted For Test Set\")\n",
    "#plt.savefig('Final_graph.pdf')\n",
    "\n",
    "plt.show()"
   ]
  },
  {
   "cell_type": "markdown",
   "id": "3344b930-3d6e-474c-8228-c7d00e955035",
   "metadata": {},
   "source": [
    "## 11. End-to-End ML Pipeline: SMILES to Emission Wavelength\n",
    "\n",
    "This pipeline accepts a SMILES string from the user, converts it to a Morgan fingerprint, and predicts the \n",
    "corresponding emission wavelength using the trained Random Forest Regressor."
   ]
  },
  {
   "cell_type": "code",
   "execution_count": null,
   "id": "632387cb-eb74-4f1a-9671-fcf9637ba9af",
   "metadata": {},
   "outputs": [],
   "source": [
    "#Function to predict the emission wavelength from a given SMILES string\n",
    "def predict_wavelength_from_smiles(smiles, model, morgan_gen):\n",
    "    try:\n",
    "         #Convert the input SMILES string to an RDKit molecule object\n",
    "        mol = Chem.MolFromSmiles(smiles)\n",
    "        #Handle invalid SMILES input\n",
    "        if mol is None:\n",
    "            return \"Invalid SMILES string; please enter a valid SMILES string\"\n",
    "        \n",
    "        #Convert to Morgan fingerprint\n",
    "        fp = list(morgan_gen.GetFingerprint(mol))\n",
    "        fp_array = np.array(fp).reshape(1, -1) #Reshape the fingerprint into the format expected by the model\n",
    "\n",
    "        #Predict emission wavelength using the trained model\n",
    "        prediction = model.predict(fp_array)[0]\n",
    "        return f\"Predicted emission wavelength: {prediction:.2f} nm\" #Return the prediction with two decimals\n",
    "    #Handle errors that might occur during prediction\n",
    "    except Exception as e:\n",
    "        return f\"Error during prediction: {str(e)}\"\n",
    "\n",
    "#Run an interactive SMILES prediction loop\n",
    "if __name__ == '__main__':\n",
    "    while True:\n",
    "        #Prompt the user to input a SMILES string or exit\n",
    "        user_input = input(\"Enter a SMILES string or type exit to quit: \").strip()\n",
    "        #Exit the loop if the user types 'exit'\n",
    "        if user_input.lower() == 'exit':\n",
    "            break\n",
    "        #Make and print the prediction\n",
    "        result = predict_wavelength_from_smiles(user_input, rf, morgan_gen)\n",
    "        print(result)"
   ]
  },
 ],
{
 "metadata": {
  "kernelspec": {
   "display_name": "Python 3 (ipykernel)",
   "language": "python",
   "name": "python3"
  },
  "language_info": {
   "codemirror_mode": {
    "name": "ipython",
    "version": 3
   },
   "file_extension": ".py",
   "mimetype": "text/x-python",
   "name": "python",
   "nbconvert_exporter": "python",
   "pygments_lexer": "ipython3",
   "version": "3.13.2"
  }
 },
 "nbformat": 4,
 "nbformat_minor": 5
}
