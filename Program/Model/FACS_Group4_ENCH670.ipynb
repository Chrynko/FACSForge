{
 "cells": [
  {
   "cell_type": "markdown",
   "id": "496713e2-59dc-424b-84b8-4809e9d9640c",
   "metadata": {},
   "source": [
    "# ENCH 670 - Machine Learning for Optical Properties of Chlorins\n",
    "### FACS: Fluorescence and Absorbance Computational Science – Group 4"
   ]
  },
  {
   "cell_type": "markdown",
   "id": "342eec43-5935-42ab-a677-dd92c368cdbd",
   "metadata": {},
   "source": [
    "#### Citation for using scikit-learn\n",
    "Scikit-learn: Machine Learning in Python, Pedregosa et al., JMLR 12, pp. 2825-2830, 2011\n",
    "\n",
    "Using Random Forest from sklearn"
   ]
  },
  {
   "cell_type": "markdown",
   "id": "2733eade-d0ee-43d4-9480-65d6ca1ce2b1",
   "metadata": {},
   "source": [
    "## 1. Import Libraries"
   ]
  },
  {
   "cell_type": "code",
   "execution_count": null,
   "id": "0bb79b07-90ae-4d43-9c15-83fe0342a334",
   "metadata": {},
   "outputs": [],
   "source": [
    "import pandas as pd\n",
    "import numpy as np\n",
    "from rdkit import Chem\n",
    "from rdkit.Chem.rdFingerprintGenerator import GetMorganGenerator\n",
    "from rdkit import RDLogger\n",
    "RDLogger.DisableLog('rdApp.*')\n",
    "from sklearn.ensemble import RandomForestRegressor\n",
    "from sklearn.model_selection import train_test_split\n",
    "from sklearn.metrics import mean_squared_error, mean_absolute_error, r2_score\n",
    "import matplotlib.pyplot as plt\n",
    "import seaborn as sns"
   ]
  },
  {
   "cell_type": "markdown",
   "id": "3b681797-a8b7-42de-aefa-5bd1532025c2",
   "metadata": {},
   "source": [
    "## 2. Data Preparation\n",
    "For this project, our goal was to develop a Random Forest machine learning model capable of predicting the emission wavelength of molecules based on their SMILES strings. To support this, we compiled a database of approximately 5,000 molecules from existing literature. \n",
    "\n",
    "After creating the dataset, we need to deal with missing values. First we check if the dataset has any missing values and then we fill missing values with the value that gives the best results."
   ]
  },
  {
   "cell_type": "code",
   "execution_count": null,
   "id": "456bedcc-9378-4050-831b-5eb49f1590a0",
   "metadata": {},
   "outputs": [],
   "source": [
    "#Import CSV file\n",
    "df = pd.read_csv('raw_dataset.csv')\n",
    "#Check for missing values\n",
    "print('Missing values:', df.isnull().sum())\n",
    "#Check for SMILES with zero value in dataset\n",
    "print('Zero SMILES:', (df['smiles'] == 0).sum())\n",
    "#Check the mean, max, and min values of the dataset\n",
    "mean_value = df['emission'].mean()\n",
    "min_value = df['emission'].min()\n",
    "max_value = df['emission'].max()\n",
    "print(f\"mean:{int(mean_value)}, max:{int(max_value)}, min:{int(min_value)}\")"
   ]
  },
  {
   "cell_type": "code",
   "execution_count": null,
   "id": "eb77a9dd-7ce9-495d-b3c9-c90d47c603bf",
   "metadata": {},
   "outputs": [],
   "source": [
    "#Filling missing values\n",
    "df = df.fillna(695)\n",
    "#Print the first 10 rows of the dataset\n",
    "df.head(10)"
   ]
  },
  {
   "cell_type": "markdown",
   "id": "0111a9e5-b6b2-4bab-b152-0e2432ec52fa",
   "metadata": {},
   "source": [
    "## 3. SMILES Cleaning Pipeline\n",
    "The next step is to remove invalid and duplicated SMILES from the dataset. We have achieved this goal through 3 steps:\n",
    "\n",
    "1. Canonicalize SMILES using RDKit.\n",
    "2. Remove invalid SMILES entries.\n",
    "3. Eliminate duplicate molecules based on canonical SMILES."
   ]
  },
  {
   "cell_type": "code",
   "execution_count": null,
   "id": "11dad6a0-d92f-49f6-8454-73f39a19c2e2",
   "metadata": {},
   "outputs": [],
   "source": [
    "#Define canonicalization function\n",
    "def canonicalize(smiles):\n",
    "    try:\n",
    "        mol = Chem.MolFromSmiles(smiles) #Convert the SMILES string to an RDKit molecule object\n",
    "        if mol is not None: #If the molecule object is valid, return its canonical SMILES\n",
    "            return Chem.MolToSmiles(mol, canonical=True)\n",
    "    #If an error occurs during conversion, return None\n",
    "    except:\n",
    "        return None  \n",
    "    return None\n",
    "\n",
    "#Apply canonicalization function to the dataset\n",
    "df['canonical_smiles'] = df['smiles'].apply(canonicalize)\n",
    "\n",
    "#Remove invalid SMILES from the dataset\n",
    "df = df[df['canonical_smiles'].notna()]\n",
    "\n",
    "#Drop duplicates from the dataset\n",
    "df_unique = df.drop_duplicates(subset='canonical_smiles').reset_index(drop=True)\n",
    "\n",
    "#Save cleaned dataset\n",
    "#df_unique.to_csv(\"smiles_dataset_unique.csv\", index=False)\n",
    "\n",
    "#Print statistical data\n",
    "print(f\"Original count: {len(df)}\")\n",
    "print(f\"Unique molecules: {len(df_unique)}\")\n",
    "print(f\"Duplicates detected: {len(df) - len(df_unique)}\")"
   ]
  },
  {
   "cell_type": "markdown",
   "id": "e171591c-ffbd-4282-8805-5efffc5b9ed3",
   "metadata": {},
   "source": [
    "## 4. Emission Wavelength Distribution\n",
    "In the next step, we visualize the distribution of emission wavelengths in the cleaned dataset."
   ]
  },
  {
   "cell_type": "code",
   "execution_count": null,
   "id": "7b1375a9-7281-405e-9ea1-7be037224d77",
   "metadata": {},
   "outputs": [],
   "source": [
    "plt.figure(figsize=(10, 6))\n",
    "#Plot histogram distribution\n",
    "sns.histplot(df_unique['emission'], bins=30, color=\"purple\")\n",
    "#Define title and lables\n",
    "plt.title('Emission Wavelength Distribution')\n",
    "plt.xlabel('Wavelength Emission')\n",
    "plt.ylabel('Frequency')\n",
    "\n",
    "plt.show()"
   ]
  },
  {
   "cell_type": "markdown",
   "id": "9dc9b37d-dca6-41c6-be4b-aeaaec09fa67",
   "metadata": {},
   "source": [
    "## 5. Feature Extraction\n",
    "As the next step, we define the label and molecular features to be used in machine learning model.\n",
    "Molecular fingerprints are generated using RDKit’s Morgan fingerprinting method. Radius=2 captures atom neighborhoods up to 2 bonds away and fpSize=4096 sets the fingerprint length (number of bits)."
   ]
  },
  {
   "cell_type": "code",
   "execution_count": null,
   "id": "cffd4875-0047-4bba-8992-1b3a4d60fa67",
   "metadata": {},
   "outputs": [],
   "source": [
    "#Define target and feature\n",
    "smiles_list = df_unique['smiles']\n",
    "targets = df_unique['emission']\n",
    "#Define a function for using Morgan generator\n",
    "morgan_gen = GetMorganGenerator(radius=2, fpSize=4096)\n",
    "\n",
    "def smiles_to_morgan_fp(smiles):\n",
    "    try:\n",
    "        mol = Chem.MolFromSmiles(smiles) #Convert SMILES to RDKit molecule\n",
    "        if mol:\n",
    "            return list(morgan_gen.GetFingerprint(mol)) #Return fingerprint as list of bits\n",
    "    except:\n",
    "        pass\n",
    "    return None\n",
    "#Generate Morgan fingerprints for each SMILES in the dataset\n",
    "fps = [smiles_to_morgan_fp(smiles) for smiles in df_unique['smiles']]\n",
    "#Filter out entries with invalid or missing fingerprints\n",
    "valid_idx = [i for i, fp in enumerate(fps) if fp is not None] \n",
    "#Prepare feature matrix X (Morgan) and target vector y (wavelength) for machine learning\n",
    "X = np.array([list(fps[i]) for i in valid_idx])                  \n",
    "y = df_unique.iloc[valid_idx]['emission'].values "
   ]
  },
  {
   "cell_type": "markdown",
   "id": "1930d05c-5880-473d-813b-a079731b1438",
   "metadata": {},
   "source": [
    "## 6. Machine Learning Model\n",
    "In the next step, we develop Random Forest regression model. As stated previously, the label is emission wavelength \n",
    "and features are the fingerprints generated based on SMILES strings. First, we split the dataset into a train and test set."
   ]
  },
  {
   "cell_type": "code",
   "execution_count": null,
   "id": "2f7edd8a-5666-4c58-b8a1-855688ae6ed8",
   "metadata": {},
   "outputs": [],
   "source": [
    "X_train, X_test, y_train, y_test = train_test_split(X, y, test_size=0.20, random_state=42)"
   ]
  },
  {
   "cell_type": "markdown",
   "id": "65728430-6875-48a0-a3de-d8aa24ae096f",
   "metadata": {},
   "source": [
    "Now, we train the model to learn to predict emission wavelengths based on molecular structure represented by Morgan \n",
    "fingerprints."
   ]
  },
  {
   "cell_type": "code",
   "execution_count": null,
   "id": "4149d50b-6b9f-463e-95f5-b49af72e9cfe",
   "metadata": {},
   "outputs": [],
   "source": [
    "rf = RandomForestRegressor(n_estimators=100, random_state=42)\n",
    "rf.fit(X_train, y_train)"
   ]
  },
  {
   "cell_type": "markdown",
   "id": "96a71965-ebcb-4ca4-b381-a60a38faedc2",
   "metadata": {},
   "source": [
    "## 7. Model Performance on Training Set\n",
    "After training the Random Forest Regressor, we evaluate its performance using Root Mean Squared Error (RMSE) and R² Score on the training data."
   ]
  },
  {
   "cell_type": "code",
   "execution_count": null,
   "id": "68ab339f-24c4-4023-a760-c575d230f2a8",
   "metadata": {},
   "outputs": [],
   "source": [
    "#Predict on the training set\n",
    "y_train_pred = rf.predict(X_train) \n",
    "#Calculate evaluation metrics\n",
    "RMSE = np.sqrt(mean_squared_error(y_train, y_train_pred))\n",
    "R2 = r2_score(y_train, y_train_pred)\n",
    "#Print results\n",
    "print(f\"RMSE: {RMSE:.2f}\")\n",
    "print(f\"R² Score: {R2:.2f}\")"
   ]
  },
  {
   "cell_type": "markdown",
   "id": "a73383b0-7c1f-44c2-a3fe-191bde177911",
   "metadata": {},
   "source": [
    "## 8. Visualization: Measured vs. Predicted Emission (Training Set)\n",
    "This plot provides a visual assessment of how well the Random Forest model's predictions match the actual emission values on the training set."
   ]
  },
  {
   "cell_type": "code",
   "execution_count": null,
   "id": "a14acc31-67ab-4440-a308-ef894ad503e4",
   "metadata": {},
   "outputs": [],
   "source": [
    "plt.figure(figsize=(6,6))\n",
    "# Scatter plot of actual vs predicted values\n",
    "plt.scatter(y_train, y_train_pred, alpha=0.3, color='crimson')\n",
    "# Reference line (perfect prediction)\n",
    "plt.plot([y_train.min(), y_train.max()], [y_train_pred.min(),y_train_pred.max()], '--g')\n",
    "plt.xlabel(\"Measured Emission Wavelength\")\n",
    "plt.ylabel(\"Predicted Emission Wavelength\")\n",
    "plt.title(\"Measured vs Predicted for Training Set\")\n",
    "plt.savefig('Final_graph.pdf')\n",
    "\n",
    "plt.show()"
   ]
  },
  {
   "cell_type": "markdown",
   "id": "eeb1ba22-d8c9-4f36-868f-b402abc81e6a",
   "metadata": {},
   "source": [
    "## 9. Model Performance on Test Set\n",
    "To evaluate the generalization ability of the trained Random Forest model, we evaluate its performance on unseen data (test set) using RMSE and R² Score."
   ]
  },
  {
   "cell_type": "code",
   "execution_count": null,
   "id": "1c65053e-da3a-479b-a369-843fc9e98c4f",
   "metadata": {},
   "outputs": [],
   "source": [
    "#Predict on the test set\n",
    "y_test_pred = rf.predict(X_test)\n",
    "#Calculate evaluation metrics\n",
    "RMSE = np.sqrt(mean_squared_error(y_test, y_test_pred))\n",
    "R2 = r2_score(y_test, y_test_pred)\n",
    "#Print results\n",
    "print(f\"RMSE: {RMSE:.2f}\")\n",
    "print(f\"R² Score: {R2:.2f}\")"
   ]
  },
  {
   "cell_type": "markdown",
   "id": "2733c97a-f704-4a3f-9259-5bff3099c238",
   "metadata": {},
   "source": [
    "## 10. Visualization: Measured vs. Predicted Emission (Test Set)"
   ]
  },
  {
   "cell_type": "code",
   "execution_count": null,
   "id": "b4bc51dc-3326-4c7e-9b28-59b2879c96ae",
   "metadata": {},
   "outputs": [],
   "source": [
    "plt.figure(figsize=(6,6))\n",
    "# Scatter plot of actual vs predicted values\n",
    "plt.scatter(y_test, y_test_pred, alpha=0.4, color='purple')\n",
    "# Reference line (perfect prediction)\n",
    "plt.plot([y_test.min(), y_test.max()], [y_test_pred.min(),y_test_pred.max()], '--g')\n",
    "plt.xlabel(\"Measured Emission Wavelength\")\n",
    "plt.ylabel(\"Predicted Emission Wavelength\")\n",
    "plt.title(\"Measured vs Predicted For Test Set\")\n",
    "#plt.savefig('Final_graph.pdf')\n",
    "\n",
    "plt.show()"
   ]
  },
  {
   "cell_type": "markdown",
   "id": "3344b930-3d6e-474c-8228-c7d00e955035",
   "metadata": {},
   "source": [
    "## 11. End-to-End ML Pipeline: SMILES to Emission Wavelength\n",
    "\n",
    "This pipeline accepts a SMILES string from the user, converts it to a Morgan fingerprint, and predicts the \n",
    "corresponding emission wavelength using the trained Random Forest Regressor."
   ]
  },
  {
   "cell_type": "code",
   "execution_count": null,
   "id": "632387cb-eb74-4f1a-9671-fcf9637ba9af",
   "metadata": {},
   "outputs": [],
   "source": [
    "#Function to predict the emission wavelength from a given SMILES string\n",
    "def predict_wavelength_from_smiles(smiles, model, morgan_gen):\n",
    "    try:\n",
    "         #Convert the input SMILES string to an RDKit molecule object\n",
    "        mol = Chem.MolFromSmiles(smiles)\n",
    "        #Handle invalid SMILES input\n",
    "        if mol is None:\n",
    "            return \"Invalid SMILES string; please enter a valid SMILES string\"\n",
    "        \n",
    "        #Convert to Morgan fingerprint\n",
    "        fp = list(morgan_gen.GetFingerprint(mol))\n",
    "        fp_array = np.array(fp).reshape(1, -1) #Reshape the fingerprint into the format expected by the model\n",
    "\n",
    "        #Predict emission wavelength using the trained model\n",
    "        prediction = model.predict(fp_array)[0]\n",
    "        return f\"Predicted emission wavelength: {prediction:.2f} nm\" #Return the prediction with two decimals\n",
    "    #Handle errors that might occur during prediction\n",
    "    except Exception as e:\n",
    "        return f\"Error during prediction: {str(e)}\"\n",
    "\n",
    "#Run an interactive SMILES prediction loop\n",
    "if __name__ == '__main__':\n",
    "    while True:\n",
    "        #Prompt the user to input a SMILES string or exit\n",
    "        user_input = input(\"Enter a SMILES string or type exit to quit: \").strip()\n",
    "        #Exit the loop if the user types 'exit'\n",
    "        if user_input.lower() == 'exit':\n",
    "            break\n",
    "        #Make and print the prediction\n",
    "        result = predict_wavelength_from_smiles(user_input, rf, morgan_gen)\n",
    "        print(result)"
   ]
  }
 ],
 "metadata": {
  "kernelspec": {
   "display_name": "Python 3 (ipykernel)",
   "language": "python",
   "name": "python3"
  },
  "language_info": {
   "codemirror_mode": {
    "name": "ipython",
    "version": 3
   },
   "file_extension": ".py",
   "mimetype": "text/x-python",
   "name": "python",
   "nbconvert_exporter": "python",
   "pygments_lexer": "ipython3",
   "version": "3.13.2"
  }
 },
 "nbformat": 4,
 "nbformat_minor": 5
}
